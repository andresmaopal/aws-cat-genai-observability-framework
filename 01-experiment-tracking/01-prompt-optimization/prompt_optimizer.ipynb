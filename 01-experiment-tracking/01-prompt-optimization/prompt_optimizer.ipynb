{
 "cells": [
  {
   "cell_type": "markdown",
   "metadata": {},
   "source": [
    "# 🎯 AI Prompt Optimization \n",
    "\n",
    "Transform your prompts into token-efficient, machine generated helpful instructions. This system combines the [4-D methodology](https://ai.gov.uk/knowledge-hub/prompts/prompt-optimiser/) with [Anthropic's best practices](https://www.anthropic.com/engineering/effective-context-engineering-for-ai-agents)\n",
    "\n",
    "\n",
    "![image](images/prompt_helper.webp)\n",
    "\n",
    "## Instructions\n",
    "1. Run the setup cell below\n",
    "2. Use the interactive chat widget to optimize your prompts\n",
    "3. Choose your mode (ADVANCED/EFFICIENT) and target (Claude/General)\n",
    "4. Share your prompt for optimization\n",
    "\n",
    "## Prompt Optimizer\n"
   ]
  },
  {
   "cell_type": "code",
   "execution_count": 1,
   "metadata": {
    "execution": {
     "iopub.execute_input": "2025-10-23T04:18:58.765187Z",
     "iopub.status.busy": "2025-10-23T04:18:58.764911Z",
     "iopub.status.idle": "2025-10-23T04:19:00.336239Z",
     "shell.execute_reply": "2025-10-23T04:19:00.335349Z",
     "shell.execute_reply.started": "2025-10-23T04:18:58.765163Z"
    }
   },
   "outputs": [],
   "source": [
    "!pip install ipywidgets \"strands-agents==0.1.9\" \"strands-agents-tools==0.1.7\" -q"
   ]
  },
  {
   "cell_type": "code",
   "execution_count": 2,
   "metadata": {
    "execution": {
     "iopub.execute_input": "2025-10-23T04:19:00.337470Z",
     "iopub.status.busy": "2025-10-23T04:19:00.337235Z",
     "iopub.status.idle": "2025-10-23T04:19:00.839140Z",
     "shell.execute_reply": "2025-10-23T04:19:00.838709Z",
     "shell.execute_reply.started": "2025-10-23T04:19:00.337444Z"
    }
   },
   "outputs": [
    {
     "data": {
      "application/vnd.jupyter.widget-view+json": {
       "model_id": "d67d995c51b54736b2f818dc4ddc8891",
       "version_major": 2,
       "version_minor": 0
      },
      "text/plain": [
       "VBox(children=(HTML(value='<h4>💬 Chat with Lyra</h4>'), Output(layout=Layout(height='auto', max_height='none',…"
      ]
     },
     "metadata": {},
     "output_type": "display_data"
    }
   ],
   "source": [
    "from utils_lyra import LyraOptimizer, LyraChat\n",
    "\n",
    "# Initialize Lyra and create chat interface\n",
    "lyra = LyraOptimizer()\n",
    "chat = LyraChat(lyra)\n",
    "chat.display()\n"
   ]
  },
  {
   "cell_type": "code",
   "execution_count": null,
   "metadata": {},
   "outputs": [],
   "source": []
  }
 ],
 "metadata": {
  "kernelspec": {
   "display_name": "Python 3 (ipykernel)",
   "language": "python",
   "name": "python3"
  },
  "language_info": {
   "codemirror_mode": {
    "name": "ipython",
    "version": 3
   },
   "file_extension": ".py",
   "mimetype": "text/x-python",
   "name": "python",
   "nbconvert_exporter": "python",
   "pygments_lexer": "ipython3",
   "version": "3.12.9"
  }
 },
 "nbformat": 4,
 "nbformat_minor": 4
}
