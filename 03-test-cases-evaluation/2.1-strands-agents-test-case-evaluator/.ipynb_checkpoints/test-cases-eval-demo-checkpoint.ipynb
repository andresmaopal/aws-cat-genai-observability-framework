{
 "cells": [
  {
   "cell_type": "markdown",
   "metadata": {},
   "source": [
    "# Test Cases Evaluation with LLM-as-a-Judge - AWS Strands Agents SDK\n",
    "\n",
    "This notebook demonstrates the unified testing approach using the `run_test()` method with human-readable results."
   ]
  },
  {
   "cell_type": "markdown",
   "metadata": {},
   "source": [
    "## Setup\n",
    "______________________________________________________________"
   ]
  },
  {
   "cell_type": "code",
   "execution_count": 1,
   "metadata": {
    "execution": {
     "iopub.execute_input": "2025-10-23T18:35:05.618812Z",
     "iopub.status.busy": "2025-10-23T18:35:05.618558Z",
     "iopub.status.idle": "2025-10-23T18:35:07.233959Z",
     "shell.execute_reply": "2025-10-23T18:35:07.233218Z",
     "shell.execute_reply.started": "2025-10-23T18:35:05.618791Z"
    }
   },
   "outputs": [
    {
     "name": "stdout",
     "output_type": "stream",
     "text": [
      "Note: you may need to restart the kernel to use updated packages.\n"
     ]
    }
   ],
   "source": [
    "%pip install \"strands-agents\" \"strands-agents-tools\" \"langfuse==3.1.1\" opentelemetry-api opentelemetry-sdk opentelemetry-exporter-otlp -q"
   ]
  },
  {
   "cell_type": "code",
   "execution_count": 2,
   "metadata": {
    "execution": {
     "iopub.execute_input": "2025-10-23T18:35:07.235171Z",
     "iopub.status.busy": "2025-10-23T18:35:07.234948Z",
     "iopub.status.idle": "2025-10-23T18:35:07.981222Z",
     "shell.execute_reply": "2025-10-23T18:35:07.980750Z",
     "shell.execute_reply.started": "2025-10-23T18:35:07.235147Z"
    }
   },
   "outputs": [],
   "source": [
    "import os, base64\n",
    "import time, uuid, boto3\n",
    "import yaml\n",
    "from datetime import datetime\n",
    "from utils import UnifiedTester\n",
    "\n"
   ]
  },
  {
   "cell_type": "code",
   "execution_count": 3,
   "metadata": {
    "execution": {
     "iopub.execute_input": "2025-10-23T18:35:07.982176Z",
     "iopub.status.busy": "2025-10-23T18:35:07.981875Z",
     "iopub.status.idle": "2025-10-23T18:35:07.989424Z",
     "shell.execute_reply": "2025-10-23T18:35:07.988863Z",
     "shell.execute_reply.started": "2025-10-23T18:35:07.982158Z"
    }
   },
   "outputs": [
    {
     "name": "stdout",
     "output_type": "stream",
     "text": [
      "✅ Unified Tester initialized!\n",
      "✅ Available Models: 97\n",
      "✅ Available Prompts: ['version1', 'version2']\n",
      "✅ Number of Test queries: 2\n"
     ]
    }
   ],
   "source": [
    "# Initialize Unified Tester\n",
    "tester = UnifiedTester()\n",
    "\n",
    "# Load configuration\n",
    "with open('config_experiments.yml', 'r') as f:\n",
    "    config = yaml.safe_load(f)\n",
    "\n",
    "prompts = config['system_prompts']\n",
    "test_queries = config['test_queries']\n",
    "\n",
    "print(\"✅ Unified Tester initialized!\")\n",
    "print(f\"✅ Available Models: {len(tester.models)}\")\n",
    "print(f\"✅ Available Prompts: {list(prompts.keys())}\")\n",
    "print(f\"✅ Number of Test queries: {len(test_queries)}\")"
   ]
  },
  {
   "cell_type": "markdown",
   "metadata": {},
   "source": [
    "## Tools Definition\n",
    "__________________________________________________________________________________"
   ]
  },
  {
   "cell_type": "markdown",
   "metadata": {},
   "source": [
    "#### Dependencies setup"
   ]
  },
  {
   "cell_type": "code",
   "execution_count": 4,
   "metadata": {
    "execution": {
     "iopub.execute_input": "2025-10-23T18:35:07.990512Z",
     "iopub.status.busy": "2025-10-23T18:35:07.990298Z",
     "iopub.status.idle": "2025-10-23T18:35:08.026882Z",
     "shell.execute_reply": "2025-10-23T18:35:08.026263Z",
     "shell.execute_reply.started": "2025-10-23T18:35:07.990493Z"
    }
   },
   "outputs": [],
   "source": [
    "from strands_tools import retrieve, current_time\n",
    "from strands import Agent, tool\n",
    "from strands.models.bedrock import BedrockModel\n",
    "import os"
   ]
  },
  {
   "cell_type": "markdown",
   "metadata": {},
   "source": [
    "#### AWS Clients setup (Bedrock KnowledgeBase and DynamoDB)"
   ]
  },
  {
   "cell_type": "code",
   "execution_count": 5,
   "metadata": {
    "execution": {
     "iopub.execute_input": "2025-10-23T18:35:08.859654Z",
     "iopub.status.busy": "2025-10-23T18:35:08.859375Z",
     "iopub.status.idle": "2025-10-23T18:35:09.115836Z",
     "shell.execute_reply": "2025-10-23T18:35:09.115130Z",
     "shell.execute_reply.started": "2025-10-23T18:35:08.859631Z"
    }
   },
   "outputs": [
    {
     "name": "stdout",
     "output_type": "stream",
     "text": [
      "DynamoDB table: restaurant-assistant-bookings\n",
      "Knowledge Base Id: EQGAONOILG\n"
     ]
    }
   ],
   "source": [
    "kb_name = \"restaurant-assistant\"\n",
    "dynamodb = boto3.resource(\"dynamodb\")\n",
    "smm_client = boto3.client(\"ssm\")\n",
    "table_name = smm_client.get_parameter(\n",
    "    Name=f\"{kb_name}-table-name\", WithDecryption=False\n",
    ")\n",
    "table = dynamodb.Table(table_name[\"Parameter\"][\"Value\"])\n",
    "kb_id = smm_client.get_parameter(Name=f\"{kb_name}-kb-id\", WithDecryption=False)\n",
    "print(\"DynamoDB table:\", table_name[\"Parameter\"][\"Value\"])\n",
    "print(\"Knowledge Base Id:\", kb_id[\"Parameter\"][\"Value\"])\n",
    "\n",
    "import uuid\n",
    "session_id = uuid.uuid4()"
   ]
  },
  {
   "cell_type": "markdown",
   "metadata": {},
   "source": [
    "### Tools setup"
   ]
  },
  {
   "cell_type": "code",
   "execution_count": 6,
   "metadata": {
    "execution": {
     "iopub.execute_input": "2025-10-23T18:35:09.485729Z",
     "iopub.status.busy": "2025-10-23T18:35:09.485458Z",
     "iopub.status.idle": "2025-10-23T18:35:09.490182Z",
     "shell.execute_reply": "2025-10-23T18:35:09.489564Z",
     "shell.execute_reply.started": "2025-10-23T18:35:09.485706Z"
    }
   },
   "outputs": [
    {
     "name": "stdout",
     "output_type": "stream",
     "text": [
      "Overwriting tool_get_booking_details.py\n"
     ]
    }
   ],
   "source": [
    "%%writefile tool_get_booking_details.py\n",
    "\n",
    "from strands import tool\n",
    "import boto3 \n",
    "\n",
    "@tool\n",
    "def tool_booking_details(booking_id: str, restaurant_name: str) -> dict:\n",
    "    \"\"\"Get the relevant details for booking_id in restaurant_name\n",
    "    Args:\n",
    "        booking_id: the id of the reservation\n",
    "        restaurant_name: name of the restaurant handling the reservation\n",
    "\n",
    "    Returns:\n",
    "        booking_details: the details of the booking in JSON format\n",
    "    \"\"\"\n",
    "\n",
    "    try:\n",
    "        response = table.get_item(\n",
    "            Key={\"booking_id\": booking_id, \"restaurant_name\": restaurant_name}\n",
    "        )\n",
    "        if \"Item\" in response:\n",
    "            return response[\"Item\"]\n",
    "        else:\n",
    "            return f\"No booking found with ID {booking_id}\"\n",
    "    except Exception as e:\n",
    "        return str(e)"
   ]
  },
  {
   "cell_type": "code",
   "execution_count": 7,
   "metadata": {
    "execution": {
     "iopub.execute_input": "2025-10-23T18:35:09.708698Z",
     "iopub.status.busy": "2025-10-23T18:35:09.708430Z",
     "iopub.status.idle": "2025-10-23T18:35:09.712989Z",
     "shell.execute_reply": "2025-10-23T18:35:09.712399Z",
     "shell.execute_reply.started": "2025-10-23T18:35:09.708677Z"
    }
   },
   "outputs": [
    {
     "name": "stdout",
     "output_type": "stream",
     "text": [
      "Overwriting tool_delete_booking.py\n"
     ]
    }
   ],
   "source": [
    "%%writefile tool_delete_booking.py\n",
    "\n",
    "from strands import tool\n",
    "import boto3 \n",
    "\n",
    "@tool\n",
    "def tool_delete_booking(booking_id: str, restaurant_name:str) -> str:\n",
    "    \"\"\"delete an existing booking_id at restaurant_name\n",
    "    Args:\n",
    "        booking_id: the id of the reservation\n",
    "        restaurant_name: name of the restaurant handling the reservation\n",
    "\n",
    "    Returns:\n",
    "        confirmation_message: confirmation message\n",
    "    \"\"\"\n",
    "    kb_name = 'restaurant-assistant'\n",
    "    dynamodb = boto3.resource('dynamodb')\n",
    "    smm_client = boto3.client('ssm')\n",
    "    table_name = smm_client.get_parameter(\n",
    "        Name=f'{kb_name}-table-name',\n",
    "        WithDecryption=False\n",
    "    )\n",
    "    table = dynamodb.Table(table_name[\"Parameter\"][\"Value\"])\n",
    "    try:\n",
    "        response = table.delete_item(Key={'booking_id': booking_id, 'restaurant_name': restaurant_name})\n",
    "        if response['ResponseMetadata']['HTTPStatusCode'] == 200:\n",
    "            return f'Booking with ID {booking_id} deleted successfully'\n",
    "        else:\n",
    "            return f'Failed to delete booking with ID {booking_id}'\n",
    "    except Exception as e:\n",
    "        return str(e)"
   ]
  },
  {
   "cell_type": "code",
   "execution_count": 8,
   "metadata": {
    "execution": {
     "iopub.execute_input": "2025-10-23T18:35:10.213541Z",
     "iopub.status.busy": "2025-10-23T18:35:10.213267Z",
     "iopub.status.idle": "2025-10-23T18:35:10.218663Z",
     "shell.execute_reply": "2025-10-23T18:35:10.218038Z",
     "shell.execute_reply.started": "2025-10-23T18:35:10.213519Z"
    }
   },
   "outputs": [
    {
     "name": "stdout",
     "output_type": "stream",
     "text": [
      "Overwriting tool_create_booking.py\n"
     ]
    }
   ],
   "source": [
    "%%writefile tool_create_booking.py\n",
    "\n",
    "#Alternativelly, you can use the TOOL_SPEC approach when defining your tool\n",
    "\n",
    "from typing import Any\n",
    "from strands.types.tools import ToolResult, ToolUse\n",
    "import boto3\n",
    "import uuid\n",
    "\n",
    "\n",
    "TOOL_SPEC = {\n",
    "    \"name\": \"tool_create_booking\",\n",
    "    \"description\": \"Create a new booking at restaurant_name\",\n",
    "    \"inputSchema\": {\n",
    "        \"json\": {\n",
    "            \"type\": \"object\",\n",
    "            \"properties\": {\n",
    "                \"date\": {\n",
    "                    \"type\": \"string\",\n",
    "                    \"description\": \"\"\"The date of the booking in the format YYYY-MM-DD. \n",
    "                    Do NOT accept relative dates like today or tomorrow. \n",
    "                    Ask for today's date for relative date.\"\"\"\n",
    "                },\n",
    "                \"hour\": {\n",
    "                    \"type\": \"string\",\n",
    "                    \"description\": \"the hour of the booking in the format HH:MM\"\n",
    "                },\n",
    "                \"restaurant_name\": {\n",
    "                    \"type\": \"string\",\n",
    "                    \"description\": \"name of the restaurant handling the reservation\"\n",
    "                },\n",
    "                \"guest_name\": {\n",
    "                    \"type\": \"string\",\n",
    "                    \"description\": \"The name of the customer to have in the reservation\"\n",
    "                },\n",
    "                \"num_guests\": {\n",
    "                    \"type\": \"integer\",\n",
    "                    \"description\": \"The number of guests for the booking\"\n",
    "                }\n",
    "            },\n",
    "            \"required\": [\"date\", \"hour\", \"restaurant_name\", \"guest_name\", \"num_guests\"]\n",
    "        }\n",
    "    }\n",
    "}\n",
    "# Function name must match tool name\n",
    "def tool_create_booking(tool: ToolUse, **kwargs: Any) -> ToolResult:\n",
    "    kb_name = 'restaurant-assistant'\n",
    "    dynamodb = boto3.resource('dynamodb')\n",
    "    smm_client = boto3.client('ssm')\n",
    "    table_name = smm_client.get_parameter(\n",
    "        Name=f'{kb_name}-table-name',\n",
    "        WithDecryption=False\n",
    "    )\n",
    "    table = dynamodb.Table(table_name[\"Parameter\"][\"Value\"])\n",
    "    \n",
    "    tool_use_id = tool[\"toolUseId\"]\n",
    "    date = tool[\"input\"][\"date\"]\n",
    "    hour = tool[\"input\"][\"hour\"]\n",
    "    restaurant_name = tool[\"input\"][\"restaurant_name\"]\n",
    "    guest_name = tool[\"input\"][\"guest_name\"]\n",
    "    num_guests = tool[\"input\"][\"num_guests\"]\n",
    "    \n",
    "    results = f\"Creating reservation for {num_guests} people at {restaurant_name}, \" \\\n",
    "              f\"{date} at {hour} in the name of {guest_name}\"\n",
    "    print(results)\n",
    "    try:\n",
    "        booking_id = str(uuid.uuid4())[:8]\n",
    "        table.put_item(\n",
    "            Item={\n",
    "                'booking_id': booking_id,\n",
    "                'restaurant_name': restaurant_name,\n",
    "                'date': date,\n",
    "                'name': guest_name,\n",
    "                'hour': hour,\n",
    "                'num_guests': num_guests\n",
    "            }\n",
    "        )\n",
    "        return {\n",
    "            \"toolUseId\": tool_use_id,\n",
    "            \"status\": \"success\",\n",
    "            \"content\": [{\"text\": f\"Reservation created with booking id: {booking_id}\"}]\n",
    "        } \n",
    "    except Exception as e:\n",
    "        return {\n",
    "            \"toolUseId\": tool_use_id,\n",
    "            \"status\": \"error\",\n",
    "            \"content\": [{\"text\": str(e)}]\n",
    "        } "
   ]
  },
  {
   "cell_type": "code",
   "execution_count": 9,
   "metadata": {
    "execution": {
     "iopub.execute_input": "2025-10-23T18:35:11.288705Z",
     "iopub.status.busy": "2025-10-23T18:35:11.288446Z",
     "iopub.status.idle": "2025-10-23T18:35:11.296337Z",
     "shell.execute_reply": "2025-10-23T18:35:11.295829Z",
     "shell.execute_reply.started": "2025-10-23T18:35:11.288683Z"
    }
   },
   "outputs": [],
   "source": [
    "import tool_create_booking\n",
    "import tool_delete_booking\n",
    "import tool_get_booking_details"
   ]
  },
  {
   "cell_type": "markdown",
   "metadata": {},
   "source": [
    "#### Set Tools List and KnowledgeBase Id capture"
   ]
  },
  {
   "cell_type": "code",
   "execution_count": 10,
   "metadata": {
    "execution": {
     "iopub.execute_input": "2025-10-23T18:35:13.893074Z",
     "iopub.status.busy": "2025-10-23T18:35:13.892815Z",
     "iopub.status.idle": "2025-10-23T18:35:13.896141Z",
     "shell.execute_reply": "2025-10-23T18:35:13.895507Z",
     "shell.execute_reply.started": "2025-10-23T18:35:13.893052Z"
    }
   },
   "outputs": [],
   "source": [
    "#Knowledge Base\n",
    "os.environ[\"KNOWLEDGE_BASE_ID\"] = kb_id[\"Parameter\"][\"Value\"]\n",
    "\n",
    "#Tools list\n",
    "tool_list = [retrieve, current_time, tool_get_booking_details, tool_create_booking, tool_delete_booking]"
   ]
  },
  {
   "cell_type": "markdown",
   "metadata": {},
   "source": [
    "## Explore Available Models\n",
    "-----------------------------------------------------------------------------"
   ]
  },
  {
   "cell_type": "code",
   "execution_count": 11,
   "metadata": {
    "execution": {
     "iopub.execute_input": "2025-10-23T18:35:14.803555Z",
     "iopub.status.busy": "2025-10-23T18:35:14.803296Z",
     "iopub.status.idle": "2025-10-23T18:35:14.808381Z",
     "shell.execute_reply": "2025-10-23T18:35:14.807832Z",
     "shell.execute_reply.started": "2025-10-23T18:35:14.803535Z"
    }
   },
   "outputs": [
    {
     "name": "stdout",
     "output_type": "stream",
     "text": [
      "\n",
      "📋 AVAILABLE MODELS (97 total)\n",
      "============================================================================================================================================\n",
      "\n",
      "🏢 AI21 (2 models)\n",
      "------------------------------------------------------------------------------------------\n",
      "  TYPE| MODEL_NAME                | ENDPOINT                        | REGION  | TOOL_SUPPORT\n",
      "------------------------------------------------------------------------------------------\n",
      "  📍    jamba-1.5-large           | ai21.jamba-1-5-large-v1:0       | us-east-1 | ❌\n",
      "  📍    jamba-1.5-mini            | ai21.jamba-1-5-mini-v1:0        | us-east-1 | ❌\n",
      "\n",
      "🏢 Amazon (22 models)\n",
      "------------------------------------------------------------------------------------------\n",
      "  TYPE| MODEL_NAME                | ENDPOINT                        | REGION  | TOOL_SUPPORT\n",
      "------------------------------------------------------------------------------------------\n",
      "  📍    amazon-rerank             | amazon.rerank-v1:0              | us-west-2 | ❌\n",
      "  🌍    nova-lite                 | us.amazon.nova-lite-v1:0        | us-east-1 | 🔧\n",
      "  📍    nova-lite-east-1          | amazon.nova-lite-v1:0:24k       | us-east-1 | ❌\n",
      "  📍    nova-lite-west-2          | amazon.nova-lite-v1:0           | us-west-2 | ❌\n",
      "  🌍    nova-micro                | us.amazon.nova-micro-v1:0       | us-east-1 | 🔧\n",
      "  📍    nova-micro-east-1         | amazon.nova-micro-v1:0:24k      | us-east-1 | ❌\n",
      "  📍    nova-micro-west-2         | amazon.nova-micro-v1:0          | us-west-2 | ❌\n",
      "  🌍    nova-premier              | us.amazon.nova-premier-v1:0     | us-east-1 | 🔧\n",
      "  📍    nova-premier-east-1       | amazon.nova-premier-v1:0:8k     | us-east-1 | ❌\n",
      "  📍    nova-premier-west-2       | amazon.nova-premier-v1:0:8k     | us-west-2 | ❌\n",
      "  🌍    nova-pro                  | us.amazon.nova-pro-v1:0         | us-east-1 | 🔧\n",
      "  📍    nova-pro-east-1           | amazon.nova-pro-v1:0:24k        | us-east-1 | ❌\n",
      "  📍    nova-pro-west-2           | amazon.nova-pro-v1:0            | us-west-2 | ❌\n",
      "  📍    nova-sonic                | amazon.nova-sonic-v1:0          | us-east-1 | ❌\n",
      "  📍    titan-text-express        | amazon.titan-text-express-v1    | us-east-1 | ❌\n",
      "  📍    titan-text-express-east-1 | amazon.titan-text-express-v1:0  | us-east-1 | ❌\n",
      "  📍    titan-text-express-west-2 | amazon.titan-text-express-v1:0  | us-west-2 | ❌\n",
      "  📍    titan-text-large          | amazon.titan-tg1-large          | us-east-1 | ❌\n",
      "  📍    titan-text-lite           | amazon.titan-text-lite-v1       | us-east-1 | ❌\n",
      "  📍    titan-text-lite-east-1    | amazon.titan-text-lite-v1:0:4k  | us-east-1 | ❌\n",
      "  📍    titan-text-lite-west-2    | amazon.titan-text-lite-v1:0:4k  | us-west-2 | ❌\n",
      "  📍    titan-text-premier        | amazon.titan-text-premier-v1:0  | us-east-1 | ❌\n",
      "\n",
      "🏢 Anthropic (27 models)\n",
      "------------------------------------------------------------------------------------------\n",
      "  TYPE| MODEL_NAME                | ENDPOINT                        | REGION  | TOOL_SUPPORT\n",
      "------------------------------------------------------------------------------------------\n",
      "  🌍    anthropic                 | us.anthropic.claude-sonnet-4-5  | us-east-1 | ❌\n",
      "  🌍    anthropic-west-2          | us.anthropic.claude-sonnet-4-5  | us-west-2 | 🔧\n",
      "  📍    claude                    | anthropic.claude-v2:0:18k       | us-east-1 | ❌\n",
      "  📍    claude-3-7-sonnet         | anthropic.claude-3-7-sonnet-20  | us-east-1 | 🔧\n",
      "  📍    claude-3-7-sonnet-west-2  | anthropic.claude-3-7-sonnet-20  | us-west-2 | 🔧\n",
      "  🌍    claude-3-haiku            | us.anthropic.claude-3-haiku-20  | us-east-1 | 🔧\n",
      "  📍    claude-3-haiku-direct     | anthropic.claude-3-haiku-20240  | us-east-1 | 🔧\n",
      "  🌍    claude-3-opus             | us.anthropic.claude-3-opus-202  | us-east-1 | 🔧\n",
      "  🌍    claude-3-sonnet           | us.anthropic.claude-3-sonnet-2  | us-east-1 | 🔧\n",
      "  🌍    claude-3.5-haiku          | us.anthropic.claude-3-5-haiku-  | us-east-1 | 🔧\n",
      "  🌍    claude-3.5-sonnet         | us.anthropic.claude-3-5-sonnet  | us-east-1 | 🔧\n",
      "  🌍    claude-3.5-sonnet-v2      | us.anthropic.claude-3-5-sonnet  | us-east-1 | 🔧\n",
      "  🌍    claude-3.7-sonnet         | us.anthropic.claude-3-7-sonnet  | us-east-1 | 🔧\n",
      "  🌍    claude-4-5-sonnet         | global.anthropic.claude-sonnet  | us-east-1 | 🔧\n",
      "  🌍    claude-4-5-sonnet-west-2  | global.anthropic.claude-sonnet  | us-west-2 | 🔧\n",
      "  🌍    claude-4-opus             | us.anthropic.claude-opus-4-202  | us-east-1 | 🔧\n",
      "  🌍    claude-4-sonnet           | us.anthropic.claude-sonnet-4-2  | us-east-1 | 🔧\n",
      "  🌍    claude-4.1-opus           | us.anthropic.claude-opus-4-1-2  | us-east-1 | 🔧\n",
      "  📍    claude-instant            | anthropic.claude-instant-v1:2:  | us-east-1 | ❌\n",
      "  📍    claude-instant-west-2     | anthropic.claude-instant-v1:2:  | us-west-2 | ❌\n",
      "  📍    claude-opus               | anthropic.claude-opus-4-1-2025  | us-east-1 | ❌\n",
      "  📍    claude-opus-east-1        | anthropic.claude-opus-4-202505  | us-east-1 | 🔧\n",
      "  📍    claude-opus-west-2        | anthropic.claude-opus-4-202505  | us-west-2 | ❌\n",
      "  📍    claude-sonnet             | anthropic.claude-sonnet-4-2025  | us-east-1 | ❌\n",
      "  🌍    claude-sonnet-east-1      | global.anthropic.claude-sonnet  | us-east-1 | 🔧\n",
      "  🌍    claude-sonnet-west-2      | global.anthropic.claude-sonnet  | us-west-2 | 🔧\n",
      "  📍    claude-west-2             | anthropic.claude-3-5-sonnet-20  | us-west-2 | ❌\n",
      "\n",
      "🏢 Cohere (3 models)\n",
      "------------------------------------------------------------------------------------------\n",
      "  TYPE| MODEL_NAME                | ENDPOINT                        | REGION  | TOOL_SUPPORT\n",
      "------------------------------------------------------------------------------------------\n",
      "  📍    cohere-rerank-3.5         | cohere.rerank-v3-5:0            | us-west-2 | ❌\n",
      "  📍    command-r                 | cohere.command-r-v1:0           | us-east-1 | 🔧\n",
      "  📍    command-r-plus            | cohere.command-r-plus-v1:0      | us-east-1 | 🔧\n",
      "\n",
      "🏢 DeepSeek (4 models)\n",
      "------------------------------------------------------------------------------------------\n",
      "  TYPE| MODEL_NAME                | ENDPOINT                        | REGION  | TOOL_SUPPORT\n",
      "------------------------------------------------------------------------------------------\n",
      "  🌍    deepseek-r1               | us.deepseek.r1-v1:0             | us-east-1 | ❌\n",
      "  📍    deepseek-v3               | deepseek.v3-v1:0                | us-west-2 | 🔧\n",
      "  📍    r1                        | deepseek.r1-v1:0                | us-east-1 | ❌\n",
      "  📍    r1-west-2                 | deepseek.r1-v1:0                | us-west-2 | ❌\n",
      "\n",
      "🏢 Meta (16 models)\n",
      "------------------------------------------------------------------------------------------\n",
      "  TYPE| MODEL_NAME                | ENDPOINT                        | REGION  | TOOL_SUPPORT\n",
      "------------------------------------------------------------------------------------------\n",
      "  📍    llama-3-70b               | meta.llama3-70b-instruct-v1:0   | us-east-1 | ❌\n",
      "  📍    llama-3-8b                | meta.llama3-8b-instruct-v1:0    | us-east-1 | ❌\n",
      "  📍    llama-3.1-405b            | meta.llama3-1-405b-instruct-v1  | us-west-2 | ❌\n",
      "  🌍    llama-3.1-70b             | us.meta.llama3-1-70b-instruct-  | us-east-1 | ❌\n",
      "  🌍    llama-3.1-8b              | us.meta.llama3-1-8b-instruct-v  | us-east-1 | ❌\n",
      "  🌍    llama-3.2-11b             | us.meta.llama3-2-11b-instruct-  | us-east-1 | ❌\n",
      "  🌍    llama-3.2-1b              | us.meta.llama3-2-1b-instruct-v  | us-east-1 | ❌\n",
      "  🌍    llama-3.2-3b              | us.meta.llama3-2-3b-instruct-v  | us-east-1 | ❌\n",
      "  🌍    llama-3.2-90b             | us.meta.llama3-2-90b-instruct-  | us-east-1 | ❌\n",
      "  🌍    llama-3.3-70b             | us.meta.llama3-3-70b-instruct-  | us-east-1 | ❌\n",
      "  🌍    llama-4-maverick          | us.meta.llama4-maverick-17b-in  | us-east-1 | ❌\n",
      "  🌍    llama-4-scout             | us.meta.llama4-scout-17b-instr  | us-east-1 | ❌\n",
      "  📍    llama4-maverick           | meta.llama4-maverick-17b-instr  | us-east-1 | ❌\n",
      "  📍    llama4-maverick-west-2    | meta.llama4-maverick-17b-instr  | us-west-2 | ❌\n",
      "  📍    llama4-scout              | meta.llama4-scout-17b-instruct  | us-east-1 | ❌\n",
      "  📍    llama4-scout-west-2       | meta.llama4-scout-17b-instruct  | us-west-2 | ❌\n",
      "\n",
      "🏢 Mistral AI (8 models)\n",
      "------------------------------------------------------------------------------------------\n",
      "  TYPE| MODEL_NAME                | ENDPOINT                        | REGION  | TOOL_SUPPORT\n",
      "------------------------------------------------------------------------------------------\n",
      "  📍    mistral-7b                | mistral.mistral-7b-instruct-v0  | us-east-1 | ❌\n",
      "  📍    mistral-large-2402        | mistral.mistral-large-2402-v1:  | us-east-1 | ❌\n",
      "  📍    mistral-large-2407        | mistral.mistral-large-2407-v1:  | us-west-2 | ❌\n",
      "  📍    mistral-small             | mistral.mistral-small-2402-v1:  | us-east-1 | ❌\n",
      "  📍    mixtral-8x7b              | mistral.mixtral-8x7b-instruct-  | us-east-1 | ❌\n",
      "  🌍    pixtral-large             | us.mistral.pixtral-large-2502-  | us-east-1 | ❌\n",
      "  📍    pixtral-large-east-1      | mistral.pixtral-large-2502-v1:  | us-east-1 | ❌\n",
      "  📍    pixtral-large-west-2      | mistral.pixtral-large-2502-v1:  | us-west-2 | ❌\n",
      "\n",
      "🏢 OpenAI (2 models)\n",
      "------------------------------------------------------------------------------------------\n",
      "  TYPE| MODEL_NAME                | ENDPOINT                        | REGION  | TOOL_SUPPORT\n",
      "------------------------------------------------------------------------------------------\n",
      "  📍    gpt-oss-120b              | openai.gpt-oss-120b-1:0         | us-east-1 | ❌\n",
      "  📍    gpt-oss-20b               | openai.gpt-oss-20b-1:0          | us-east-1 | ❌\n",
      "\n",
      "🏢 Other (10 models)\n",
      "------------------------------------------------------------------------------------------\n",
      "  TYPE| MODEL_NAME                | ENDPOINT                        | REGION  | TOOL_SUPPORT\n",
      "------------------------------------------------------------------------------------------\n",
      "  🌍    palmyra-x4                | arn:aws:bedrock:us-west-2:6570  | us-west-2 | ❌\n",
      "  📍    palmyra-x4-west-2         | writer.palmyra-x4-v1:0          | us-west-2 | ❌\n",
      "  🌍    palmyra-x5                | arn:aws:bedrock:us-west-2:6570  | us-west-2 | ❌\n",
      "  📍    palmyra-x5-west-2         | writer.palmyra-x5-v1:0          | us-west-2 | ❌\n",
      "  📍    qwen3-235b                | qwen.qwen3-235b-a22b-2507-v1:0  | us-west-2 | 🔧\n",
      "  📍    qwen3-32b                 | qwen.qwen3-32b-v1:0             | us-east-1 | 🔧\n",
      "  📍    qwen3-coder-30b           | qwen.qwen3-coder-30b-a3b-v1:0   | us-east-1 | 🔧\n",
      "  📍    qwen3-coder-480b          | qwen.qwen3-coder-480b-a35b-v1:  | us-west-2 | 🔧\n",
      "  📍    ray                       | luma.ray-v2:0                   | us-west-2 | ❌\n",
      "  🌍    writer                    | us.writer.palmyra-x5-v1:0       | us-west-2 | ❌\n",
      "\n",
      "🏢 TwelveLabs (3 models)\n",
      "------------------------------------------------------------------------------------------\n",
      "  TYPE| MODEL_NAME                | ENDPOINT                        | REGION  | TOOL_SUPPORT\n",
      "------------------------------------------------------------------------------------------\n",
      "  📍    pegasus                   | twelvelabs.pegasus-1-2-v1:0     | us-east-1 | ❌\n",
      "  🌍    pegasus-1.2               | us.twelvelabs.pegasus-1-2-v1:0  | us-east-1 | ❌\n",
      "  📍    pegasus-west-2            | twelvelabs.pegasus-1-2-v1:0     | us-west-2 | ❌\n"
     ]
    }
   ],
   "source": [
    "# List all available models grouped by provider\n",
    "tester.list_models_by_provider()"
   ]
  },
  {
   "cell_type": "markdown",
   "metadata": {},
   "source": [
    "## Test Case Evaluation with LLM-as-Judge \n",
    "\n",
    "This section demonstrates how to run structured test case evaluation using the `run_evaluation()` method. This method:\n",
    "\n",
    "- Loads test cases from `config_evaluation.yaml`\n",
    "- Runs multi-turn conversations for each test case\n",
    "- Uses an LLM-as-judge to evaluate responses against expected results\n",
    "- Provides detailed scoring and analysis\n",
    "- Optionally integrates with Langfuse for tracing"
   ]
  },
  {
   "cell_type": "markdown",
   "metadata": {},
   "source": [
    "### Evaluation with Langfuse Tracing \n",
    "If you have Langfuse credentials, you can enable tracing for detailed observability:"
   ]
  },
  {
   "cell_type": "code",
   "execution_count": 13,
   "metadata": {
    "execution": {
     "iopub.execute_input": "2025-10-23T18:36:03.542461Z",
     "iopub.status.busy": "2025-10-23T18:36:03.542250Z",
     "iopub.status.idle": "2025-10-23T18:36:03.545241Z",
     "shell.execute_reply": "2025-10-23T18:36:03.544710Z",
     "shell.execute_reply.started": "2025-10-23T18:36:03.542443Z"
    }
   },
   "outputs": [],
   "source": [
    "os.environ[\"LANGFUSE_SECRET_KEY\"] = \"sk-lf-283af809-1820-4eb4-9a3c-05dbc8d68e9b\"  # Starts with sk-\n",
    "os.environ[\"LANGFUSE_PUBLIC_KEY\"] = \"pk-lf-837662dd-32fa-4331-9b86-609b62640939\"  # Starts with pk-\n",
    "os.environ[\"LANGFUSE_HOST\"] = \"https://us.cloud.langfuse.com\""
   ]
  },
  {
   "cell_type": "code",
   "execution_count": null,
   "metadata": {},
   "outputs": [],
   "source": [
    "# Load system prompts for evaluation\n",
    "with open('config_experiments.yml', 'r') as f:\n",
    "    config = yaml.safe_load(f)\n",
    "\n",
    "prompts = config['system_prompts']\n",
    "\n",
    "# Initialize tester\n",
    "tester = UnifiedTester()\n",
    "\n",
    "# Run evaluation with corrected Langfuse tracing\n",
    "evaluation_results_traced = tester.run_evaluation(\n",
    "    models=[\"claude-4-sonnet\"],\n",
    "    system_prompts=[\"version1\"],\n",
    "    prompts_dict=prompts,\n",
    "    tool=tool_list,\n",
    "    test_cases_path=\"config_evaluation.yml\",\n",
    "    langfuse_public_key=os.environ[\"LANGFUSE_PUBLIC_KEY\"], \n",
    "    langfuse_secret_key=os.environ[\"LANGFUSE_SECRET_KEY\"], \n",
    "    langfuse_api_url=os.environ[\"LANGFUSE_HOST\"],\n",
    "    save_to_csv=True\n",
    ")"
   ]
  },
  {
   "cell_type": "markdown",
   "metadata": {},
   "source": [
    "### Agent Evaluation (csv output ONLY)"
   ]
  },
  {
   "cell_type": "code",
   "execution_count": null,
   "metadata": {},
   "outputs": [],
   "source": [
    "# Load system prompts for evaluation\n",
    "with open('config_experiments.yml', 'r') as f:\n",
    "    config = yaml.safe_load(f)\n",
    "\n",
    "prompts = config['system_prompts']\n",
    "\n",
    "\n",
    "# Run evaluation with test cases\n",
    "evaluation_results = tester.run_evaluation(\n",
    "    models=[\"nova-pro\"],  # Single model for faster evaluation\n",
    "    system_prompts=[\"version1\"],  # Single prompt version\n",
    "    prompts_dict=prompts,\n",
    "    tool=tool_list,\n",
    "    test_cases_path=\"config_evaluation.yml\",  # Test cases file\n",
    "    save_to_csv=True  # Save results to CSV\n",
    ")\n",
    "\n",
    "print(f\"\\n✅ Evaluation completed with {len(evaluation_results)} test case results\")"
   ]
  },
  {
   "cell_type": "code",
   "execution_count": null,
   "metadata": {},
   "outputs": [],
   "source": []
  }
 ],
 "metadata": {
  "kernelspec": {
   "display_name": "Python 3 (ipykernel)",
   "language": "python",
   "name": "python3"
  },
  "language_info": {
   "codemirror_mode": {
    "name": "ipython",
    "version": 3
   },
   "file_extension": ".py",
   "mimetype": "text/x-python",
   "name": "python",
   "nbconvert_exporter": "python",
   "pygments_lexer": "ipython3",
   "version": "3.12.9"
  }
 },
 "nbformat": 4,
 "nbformat_minor": 4
}
