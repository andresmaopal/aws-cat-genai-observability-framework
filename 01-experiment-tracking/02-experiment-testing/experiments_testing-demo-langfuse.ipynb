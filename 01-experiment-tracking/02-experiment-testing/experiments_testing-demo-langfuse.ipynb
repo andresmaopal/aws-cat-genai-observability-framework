{
 "cells": [
  {
   "cell_type": "markdown",
   "metadata": {},
   "source": [
    "# 01 - Experiments tracking - AWS Strands Agents with LangFuse observability\n",
    "\n",
    "This notebook demonstrates the unified testing approach using the `run_test()` method with human-readable results."
   ]
  },
  {
   "cell_type": "markdown",
   "metadata": {},
   "source": [
    "## Setup\n",
    "______________________________________________________________"
   ]
  },
  {
   "cell_type": "code",
   "execution_count": 1,
   "metadata": {
    "execution": {
     "iopub.execute_input": "2025-10-23T18:32:30.036367Z",
     "iopub.status.busy": "2025-10-23T18:32:30.036104Z",
     "iopub.status.idle": "2025-10-23T18:32:31.607650Z",
     "shell.execute_reply": "2025-10-23T18:32:31.606995Z",
     "shell.execute_reply.started": "2025-10-23T18:32:30.036347Z"
    }
   },
   "outputs": [
    {
     "name": "stdout",
     "output_type": "stream",
     "text": [
      "Note: you may need to restart the kernel to use updated packages.\n"
     ]
    }
   ],
   "source": [
    "%pip install \"strands-agents\" \"strands-agents-tools\" \"langfuse==3.1.1\" opentelemetry-api opentelemetry-sdk opentelemetry-exporter-otlp -q"
   ]
  },
  {
   "cell_type": "code",
   "execution_count": 2,
   "metadata": {
    "execution": {
     "iopub.execute_input": "2025-10-23T18:32:31.608794Z",
     "iopub.status.busy": "2025-10-23T18:32:31.608548Z",
     "iopub.status.idle": "2025-10-23T18:32:32.343494Z",
     "shell.execute_reply": "2025-10-23T18:32:32.343056Z",
     "shell.execute_reply.started": "2025-10-23T18:32:31.608770Z"
    }
   },
   "outputs": [],
   "source": [
    "import os, base64\n",
    "import time, uuid, boto3\n",
    "import yaml\n",
    "from datetime import datetime\n",
    "from utils import UnifiedTester\n"
   ]
  },
  {
   "cell_type": "code",
   "execution_count": 3,
   "metadata": {
    "execution": {
     "iopub.execute_input": "2025-10-23T18:32:32.344431Z",
     "iopub.status.busy": "2025-10-23T18:32:32.344138Z",
     "iopub.status.idle": "2025-10-23T18:32:32.351125Z",
     "shell.execute_reply": "2025-10-23T18:32:32.350681Z",
     "shell.execute_reply.started": "2025-10-23T18:32:32.344413Z"
    }
   },
   "outputs": [
    {
     "name": "stdout",
     "output_type": "stream",
     "text": [
      "✅ Unified Tester initialized!\n",
      "✅ Available Models: 97\n",
      "✅ Available Prompts: ['version1', 'version2']\n",
      "✅ Number of Test queries: 2\n"
     ]
    }
   ],
   "source": [
    "# Initialize Unified Tester\n",
    "tester = UnifiedTester()\n",
    "\n",
    "# Load configuration\n",
    "with open('config_experiments.yml', 'r') as f:\n",
    "    config = yaml.safe_load(f)\n",
    "\n",
    "prompts = config['system_prompts']\n",
    "test_queries = config['test_queries']\n",
    "\n",
    "print(\"✅ Unified Tester initialized!\")\n",
    "print(f\"✅ Available Models: {len(tester.models)}\")\n",
    "print(f\"✅ Available Prompts: {list(prompts.keys())}\")\n",
    "print(f\"✅ Number of Test queries: {len(test_queries)}\")"
   ]
  },
  {
   "cell_type": "markdown",
   "metadata": {},
   "source": [
    "### LangFuse Setup"
   ]
  },
  {
   "cell_type": "code",
   "execution_count": null,
   "metadata": {
    "execution": {
     "iopub.execute_input": "2025-10-23T18:32:38.152377Z",
     "iopub.status.busy": "2025-10-23T18:32:38.152119Z",
     "iopub.status.idle": "2025-10-23T18:32:38.160366Z",
     "shell.execute_reply": "2025-10-23T18:32:38.159737Z",
     "shell.execute_reply.started": "2025-10-23T18:32:38.152357Z"
    }
   },
   "outputs": [
    {
     "name": "stdout",
     "output_type": "stream",
     "text": [
      "✅ LangFuse v3 Environment Configured:\n",
      "   Host: https://us.cloud.langfuse.com\n",
      "   OTEL Endpoint: https://us.cloud.langfuse.com/api/public/otel/v1/traces\n",
      "   Authentication: Configured\n"
     ]
    },
    {
     "data": {
      "text/plain": [
       "True"
      ]
     },
     "execution_count": 4,
     "metadata": {},
     "output_type": "execute_result"
    }
   ],
   "source": [
    "## 1. Set general environment variables first\n",
    "\n",
    "os.environ[\"LANGFUSE_SECRET_KEY\"] = \"sk-lf-xxxxxxxxx\"  # Starts with sk-\n",
    "os.environ[\"LANGFUSE_PUBLIC_KEY\"] = \"pk-lf-xxxxxx\"  # Starts with pk-\n",
    "os.environ[\"LANGFUSE_HOST\"] = \"https://us.cloud.langfuse.com\"\n",
    "\n",
    "def setup_langfuse_v3(langfuse_public_key, langfuse_secret_key, langfuse_api_url):\n",
    "    \"\"\"Set up LangFuse v3 with proper configuration\"\"\"\n",
    "    \n",
    "    \n",
    "    # 2. Set up OpenTelemetry endpoint with proper authentication\n",
    "    otel_endpoint = f\"{langfuse_api_url}/api/public/otel/v1/traces\"\n",
    "    auth_token = base64.b64encode(\n",
    "        f\"{langfuse_public_key}:{langfuse_secret_key}\".encode()\n",
    "    ).decode()\n",
    "    \n",
    "    os.environ[\"OTEL_EXPORTER_OTLP_ENDPOINT\"] = otel_endpoint\n",
    "    os.environ[\"OTEL_EXPORTER_OTLP_HEADERS\"] = f\"Authorization=Basic {auth_token}\"\n",
    "    \n",
    "    print(\"✅ LangFuse v3 Environment Configured:\")\n",
    "    print(f\"   Host: {langfuse_api_url}\")\n",
    "    print(f\"   OTEL Endpoint: {otel_endpoint}\")\n",
    "    print(f\"   Authentication: Configured\")\n",
    "    \n",
    "    return True\n",
    "\n",
    "# Set up LangFuse\n",
    "setup_langfuse_v3(os.environ[\"LANGFUSE_PUBLIC_KEY\"], os.environ[\"LANGFUSE_SECRET_KEY\"], os.environ[\"LANGFUSE_HOST\"])\n"
   ]
  },
  {
   "cell_type": "markdown",
   "metadata": {},
   "source": [
    "## Tools Definition\n",
    "__________________________________________________________________________________"
   ]
  },
  {
   "cell_type": "markdown",
   "metadata": {},
   "source": [
    "#### Dependencies setup"
   ]
  },
  {
   "cell_type": "code",
   "execution_count": 5,
   "metadata": {
    "execution": {
     "iopub.execute_input": "2025-10-23T18:32:39.844575Z",
     "iopub.status.busy": "2025-10-23T18:32:39.844314Z",
     "iopub.status.idle": "2025-10-23T18:32:39.881006Z",
     "shell.execute_reply": "2025-10-23T18:32:39.880529Z",
     "shell.execute_reply.started": "2025-10-23T18:32:39.844554Z"
    }
   },
   "outputs": [],
   "source": [
    "from strands_tools import retrieve, current_time\n",
    "from strands import Agent, tool\n",
    "from strands.models.bedrock import BedrockModel\n",
    "import os"
   ]
  },
  {
   "cell_type": "markdown",
   "metadata": {},
   "source": [
    "#### AWS Clients setup (Bedrock KnowledgeBase and DynamoDB)"
   ]
  },
  {
   "cell_type": "code",
   "execution_count": 6,
   "metadata": {
    "execution": {
     "iopub.execute_input": "2025-10-23T18:32:40.587808Z",
     "iopub.status.busy": "2025-10-23T18:32:40.587540Z",
     "iopub.status.idle": "2025-10-23T18:32:40.856418Z",
     "shell.execute_reply": "2025-10-23T18:32:40.855874Z",
     "shell.execute_reply.started": "2025-10-23T18:32:40.587788Z"
    }
   },
   "outputs": [
    {
     "name": "stdout",
     "output_type": "stream",
     "text": [
      "DynamoDB table: restaurant-assistant-bookings\n",
      "Knowledge Base Id: EQGAONOILG\n"
     ]
    }
   ],
   "source": [
    "kb_name = \"restaurant-assistant\"\n",
    "dynamodb = boto3.resource(\"dynamodb\")\n",
    "smm_client = boto3.client(\"ssm\")\n",
    "table_name = smm_client.get_parameter(\n",
    "    Name=f\"{kb_name}-table-name\", WithDecryption=False\n",
    ")\n",
    "table = dynamodb.Table(table_name[\"Parameter\"][\"Value\"])\n",
    "kb_id = smm_client.get_parameter(Name=f\"{kb_name}-kb-id\", WithDecryption=False)\n",
    "print(\"DynamoDB table:\", table_name[\"Parameter\"][\"Value\"])\n",
    "print(\"Knowledge Base Id:\", kb_id[\"Parameter\"][\"Value\"])\n",
    "\n",
    "import uuid\n",
    "session_id = uuid.uuid4()"
   ]
  },
  {
   "cell_type": "markdown",
   "metadata": {},
   "source": [
    "### Tools setup"
   ]
  },
  {
   "cell_type": "code",
   "execution_count": 7,
   "metadata": {
    "execution": {
     "iopub.execute_input": "2025-10-23T18:32:41.514899Z",
     "iopub.status.busy": "2025-10-23T18:32:41.514646Z",
     "iopub.status.idle": "2025-10-23T18:32:41.518684Z",
     "shell.execute_reply": "2025-10-23T18:32:41.518292Z",
     "shell.execute_reply.started": "2025-10-23T18:32:41.514881Z"
    }
   },
   "outputs": [
    {
     "name": "stdout",
     "output_type": "stream",
     "text": [
      "Overwriting tool_get_booking_details.py\n"
     ]
    }
   ],
   "source": [
    "%%writefile tool_get_booking_details.py\n",
    "\n",
    "from strands import tool\n",
    "import boto3 \n",
    "\n",
    "@tool\n",
    "def tool_booking_details(booking_id: str, restaurant_name: str) -> dict:\n",
    "    \"\"\"Get the relevant details for booking_id in restaurant_name\n",
    "    Args:\n",
    "        booking_id: the id of the reservation\n",
    "        restaurant_name: name of the restaurant handling the reservation\n",
    "\n",
    "    Returns:\n",
    "        booking_details: the details of the booking in JSON format\n",
    "    \"\"\"\n",
    "\n",
    "    try:\n",
    "        response = table.get_item(\n",
    "            Key={\"booking_id\": booking_id, \"restaurant_name\": restaurant_name}\n",
    "        )\n",
    "        if \"Item\" in response:\n",
    "            return response[\"Item\"]\n",
    "        else:\n",
    "            return f\"No booking found with ID {booking_id}\"\n",
    "    except Exception as e:\n",
    "        return str(e)"
   ]
  },
  {
   "cell_type": "code",
   "execution_count": 8,
   "metadata": {
    "execution": {
     "iopub.execute_input": "2025-10-23T18:32:42.158713Z",
     "iopub.status.busy": "2025-10-23T18:32:42.158452Z",
     "iopub.status.idle": "2025-10-23T18:32:42.162562Z",
     "shell.execute_reply": "2025-10-23T18:32:42.162050Z",
     "shell.execute_reply.started": "2025-10-23T18:32:42.158694Z"
    }
   },
   "outputs": [
    {
     "name": "stdout",
     "output_type": "stream",
     "text": [
      "Overwriting tool_delete_booking.py\n"
     ]
    }
   ],
   "source": [
    "%%writefile tool_delete_booking.py\n",
    "\n",
    "from strands import tool\n",
    "import boto3 \n",
    "\n",
    "@tool\n",
    "def tool_delete_booking(booking_id: str, restaurant_name:str) -> str:\n",
    "    \"\"\"delete an existing booking_id at restaurant_name\n",
    "    Args:\n",
    "        booking_id: the id of the reservation\n",
    "        restaurant_name: name of the restaurant handling the reservation\n",
    "\n",
    "    Returns:\n",
    "        confirmation_message: confirmation message\n",
    "    \"\"\"\n",
    "    kb_name = 'restaurant-assistant'\n",
    "    dynamodb = boto3.resource('dynamodb')\n",
    "    smm_client = boto3.client('ssm')\n",
    "    table_name = smm_client.get_parameter(\n",
    "        Name=f'{kb_name}-table-name',\n",
    "        WithDecryption=False\n",
    "    )\n",
    "    table = dynamodb.Table(table_name[\"Parameter\"][\"Value\"])\n",
    "    try:\n",
    "        response = table.delete_item(Key={'booking_id': booking_id, 'restaurant_name': restaurant_name})\n",
    "        if response['ResponseMetadata']['HTTPStatusCode'] == 200:\n",
    "            return f'Booking with ID {booking_id} deleted successfully'\n",
    "        else:\n",
    "            return f'Failed to delete booking with ID {booking_id}'\n",
    "    except Exception as e:\n",
    "        return str(e)"
   ]
  },
  {
   "cell_type": "code",
   "execution_count": 9,
   "metadata": {
    "execution": {
     "iopub.execute_input": "2025-10-23T18:32:43.106397Z",
     "iopub.status.busy": "2025-10-23T18:32:43.106148Z",
     "iopub.status.idle": "2025-10-23T18:32:43.111244Z",
     "shell.execute_reply": "2025-10-23T18:32:43.110717Z",
     "shell.execute_reply.started": "2025-10-23T18:32:43.106377Z"
    }
   },
   "outputs": [
    {
     "name": "stdout",
     "output_type": "stream",
     "text": [
      "Overwriting tool_create_booking.py\n"
     ]
    }
   ],
   "source": [
    "%%writefile tool_create_booking.py\n",
    "\n",
    "#Alternativelly, you can use the TOOL_SPEC approach when defining your tool\n",
    "\n",
    "from typing import Any\n",
    "from strands.types.tools import ToolResult, ToolUse\n",
    "import boto3\n",
    "import uuid\n",
    "\n",
    "\n",
    "TOOL_SPEC = {\n",
    "    \"name\": \"tool_create_booking\",\n",
    "    \"description\": \"Create a new booking at restaurant_name\",\n",
    "    \"inputSchema\": {\n",
    "        \"json\": {\n",
    "            \"type\": \"object\",\n",
    "            \"properties\": {\n",
    "                \"date\": {\n",
    "                    \"type\": \"string\",\n",
    "                    \"description\": \"\"\"The date of the booking in the format YYYY-MM-DD. \n",
    "                    Do NOT accept relative dates like today or tomorrow. \n",
    "                    Ask for today's date for relative date.\"\"\"\n",
    "                },\n",
    "                \"hour\": {\n",
    "                    \"type\": \"string\",\n",
    "                    \"description\": \"the hour of the booking in the format HH:MM\"\n",
    "                },\n",
    "                \"restaurant_name\": {\n",
    "                    \"type\": \"string\",\n",
    "                    \"description\": \"name of the restaurant handling the reservation\"\n",
    "                },\n",
    "                \"guest_name\": {\n",
    "                    \"type\": \"string\",\n",
    "                    \"description\": \"The name of the customer to have in the reservation\"\n",
    "                },\n",
    "                \"num_guests\": {\n",
    "                    \"type\": \"integer\",\n",
    "                    \"description\": \"The number of guests for the booking\"\n",
    "                }\n",
    "            },\n",
    "            \"required\": [\"date\", \"hour\", \"restaurant_name\", \"guest_name\", \"num_guests\"]\n",
    "        }\n",
    "    }\n",
    "}\n",
    "# Function name must match tool name\n",
    "def tool_create_booking(tool: ToolUse, **kwargs: Any) -> ToolResult:\n",
    "    kb_name = 'restaurant-assistant'\n",
    "    dynamodb = boto3.resource('dynamodb')\n",
    "    smm_client = boto3.client('ssm')\n",
    "    table_name = smm_client.get_parameter(\n",
    "        Name=f'{kb_name}-table-name',\n",
    "        WithDecryption=False\n",
    "    )\n",
    "    table = dynamodb.Table(table_name[\"Parameter\"][\"Value\"])\n",
    "    \n",
    "    tool_use_id = tool[\"toolUseId\"]\n",
    "    date = tool[\"input\"][\"date\"]\n",
    "    hour = tool[\"input\"][\"hour\"]\n",
    "    restaurant_name = tool[\"input\"][\"restaurant_name\"]\n",
    "    guest_name = tool[\"input\"][\"guest_name\"]\n",
    "    num_guests = tool[\"input\"][\"num_guests\"]\n",
    "    \n",
    "    results = f\"Creating reservation for {num_guests} people at {restaurant_name}, \" \\\n",
    "              f\"{date} at {hour} in the name of {guest_name}\"\n",
    "    print(results)\n",
    "    try:\n",
    "        booking_id = str(uuid.uuid4())[:8]\n",
    "        table.put_item(\n",
    "            Item={\n",
    "                'booking_id': booking_id,\n",
    "                'restaurant_name': restaurant_name,\n",
    "                'date': date,\n",
    "                'name': guest_name,\n",
    "                'hour': hour,\n",
    "                'num_guests': num_guests\n",
    "            }\n",
    "        )\n",
    "        return {\n",
    "            \"toolUseId\": tool_use_id,\n",
    "            \"status\": \"success\",\n",
    "            \"content\": [{\"text\": f\"Reservation created with booking id: {booking_id}\"}]\n",
    "        } \n",
    "    except Exception as e:\n",
    "        return {\n",
    "            \"toolUseId\": tool_use_id,\n",
    "            \"status\": \"error\",\n",
    "            \"content\": [{\"text\": str(e)}]\n",
    "        } "
   ]
  },
  {
   "cell_type": "code",
   "execution_count": 10,
   "metadata": {
    "execution": {
     "iopub.execute_input": "2025-10-23T18:32:44.553471Z",
     "iopub.status.busy": "2025-10-23T18:32:44.553224Z",
     "iopub.status.idle": "2025-10-23T18:32:44.560916Z",
     "shell.execute_reply": "2025-10-23T18:32:44.560439Z",
     "shell.execute_reply.started": "2025-10-23T18:32:44.553452Z"
    }
   },
   "outputs": [],
   "source": [
    "import tool_create_booking\n",
    "import tool_delete_booking\n",
    "import tool_get_booking_details"
   ]
  },
  {
   "cell_type": "markdown",
   "metadata": {},
   "source": [
    "#### Set Tools List and KnowledgeBase Id capture"
   ]
  },
  {
   "cell_type": "code",
   "execution_count": 11,
   "metadata": {
    "execution": {
     "iopub.execute_input": "2025-10-23T18:32:45.407559Z",
     "iopub.status.busy": "2025-10-23T18:32:45.407304Z",
     "iopub.status.idle": "2025-10-23T18:32:45.410568Z",
     "shell.execute_reply": "2025-10-23T18:32:45.410043Z",
     "shell.execute_reply.started": "2025-10-23T18:32:45.407540Z"
    }
   },
   "outputs": [],
   "source": [
    "#Knowledge Base\n",
    "os.environ[\"KNOWLEDGE_BASE_ID\"] = kb_id[\"Parameter\"][\"Value\"]\n",
    "\n",
    "#Tools list\n",
    "tool_list = [retrieve, current_time, tool_get_booking_details, tool_create_booking, tool_delete_booking]"
   ]
  },
  {
   "cell_type": "markdown",
   "metadata": {},
   "source": [
    "## Explore Available Models\n",
    "-----------------------------------------------------------------------------"
   ]
  },
  {
   "cell_type": "code",
   "execution_count": 12,
   "metadata": {
    "execution": {
     "iopub.execute_input": "2025-10-23T18:32:46.150861Z",
     "iopub.status.busy": "2025-10-23T18:32:46.150585Z",
     "iopub.status.idle": "2025-10-23T18:32:46.154742Z",
     "shell.execute_reply": "2025-10-23T18:32:46.154231Z",
     "shell.execute_reply.started": "2025-10-23T18:32:46.150840Z"
    }
   },
   "outputs": [
    {
     "name": "stdout",
     "output_type": "stream",
     "text": [
      "\n",
      "📋 AVAILABLE MODELS (97 total)\n",
      "============================================================================================================================================\n",
      "\n",
      "🏢 AI21 (2 models)\n",
      "------------------------------------------------------------------------------------------\n",
      "  TYPE| MODEL_NAME                | ENDPOINT                        | REGION  | TOOL_SUPPORT\n",
      "------------------------------------------------------------------------------------------\n",
      "  📍    jamba-1.5-large           | ai21.jamba-1-5-large-v1:0       | us-east-1 | ❌\n",
      "  📍    jamba-1.5-mini            | ai21.jamba-1-5-mini-v1:0        | us-east-1 | ❌\n",
      "\n",
      "🏢 Amazon (22 models)\n",
      "------------------------------------------------------------------------------------------\n",
      "  TYPE| MODEL_NAME                | ENDPOINT                        | REGION  | TOOL_SUPPORT\n",
      "------------------------------------------------------------------------------------------\n",
      "  📍    amazon-rerank             | amazon.rerank-v1:0              | us-west-2 | ❌\n",
      "  🌍    nova-lite                 | us.amazon.nova-lite-v1:0        | us-east-1 | 🔧\n",
      "  📍    nova-lite-east-1          | amazon.nova-lite-v1:0:24k       | us-east-1 | ❌\n",
      "  📍    nova-lite-west-2          | amazon.nova-lite-v1:0           | us-west-2 | ❌\n",
      "  🌍    nova-micro                | us.amazon.nova-micro-v1:0       | us-east-1 | 🔧\n",
      "  📍    nova-micro-east-1         | amazon.nova-micro-v1:0:24k      | us-east-1 | ❌\n",
      "  📍    nova-micro-west-2         | amazon.nova-micro-v1:0          | us-west-2 | ❌\n",
      "  🌍    nova-premier              | us.amazon.nova-premier-v1:0     | us-east-1 | 🔧\n",
      "  📍    nova-premier-east-1       | amazon.nova-premier-v1:0:8k     | us-east-1 | ❌\n",
      "  📍    nova-premier-west-2       | amazon.nova-premier-v1:0:8k     | us-west-2 | ❌\n",
      "  🌍    nova-pro                  | us.amazon.nova-pro-v1:0         | us-east-1 | 🔧\n",
      "  📍    nova-pro-east-1           | amazon.nova-pro-v1:0:24k        | us-east-1 | ❌\n",
      "  📍    nova-pro-west-2           | amazon.nova-pro-v1:0            | us-west-2 | ❌\n",
      "  📍    nova-sonic                | amazon.nova-sonic-v1:0          | us-east-1 | ❌\n",
      "  📍    titan-text-express        | amazon.titan-text-express-v1    | us-east-1 | ❌\n",
      "  📍    titan-text-express-east-1 | amazon.titan-text-express-v1:0  | us-east-1 | ❌\n",
      "  📍    titan-text-express-west-2 | amazon.titan-text-express-v1:0  | us-west-2 | ❌\n",
      "  📍    titan-text-large          | amazon.titan-tg1-large          | us-east-1 | ❌\n",
      "  📍    titan-text-lite           | amazon.titan-text-lite-v1       | us-east-1 | ❌\n",
      "  📍    titan-text-lite-east-1    | amazon.titan-text-lite-v1:0:4k  | us-east-1 | ❌\n",
      "  📍    titan-text-lite-west-2    | amazon.titan-text-lite-v1:0:4k  | us-west-2 | ❌\n",
      "  📍    titan-text-premier        | amazon.titan-text-premier-v1:0  | us-east-1 | ❌\n",
      "\n",
      "🏢 Anthropic (27 models)\n",
      "------------------------------------------------------------------------------------------\n",
      "  TYPE| MODEL_NAME                | ENDPOINT                        | REGION  | TOOL_SUPPORT\n",
      "------------------------------------------------------------------------------------------\n",
      "  🌍    anthropic                 | us.anthropic.claude-sonnet-4-5  | us-east-1 | ❌\n",
      "  🌍    anthropic-west-2          | us.anthropic.claude-sonnet-4-5  | us-west-2 | 🔧\n",
      "  📍    claude                    | anthropic.claude-v2:0:18k       | us-east-1 | ❌\n",
      "  📍    claude-3-7-sonnet         | anthropic.claude-3-7-sonnet-20  | us-east-1 | 🔧\n",
      "  📍    claude-3-7-sonnet-west-2  | anthropic.claude-3-7-sonnet-20  | us-west-2 | 🔧\n",
      "  🌍    claude-3-haiku            | us.anthropic.claude-3-haiku-20  | us-east-1 | 🔧\n",
      "  📍    claude-3-haiku-direct     | anthropic.claude-3-haiku-20240  | us-east-1 | 🔧\n",
      "  🌍    claude-3-opus             | us.anthropic.claude-3-opus-202  | us-east-1 | 🔧\n",
      "  🌍    claude-3-sonnet           | us.anthropic.claude-3-sonnet-2  | us-east-1 | 🔧\n",
      "  🌍    claude-3.5-haiku          | us.anthropic.claude-3-5-haiku-  | us-east-1 | 🔧\n",
      "  🌍    claude-3.5-sonnet         | us.anthropic.claude-3-5-sonnet  | us-east-1 | 🔧\n",
      "  🌍    claude-3.5-sonnet-v2      | us.anthropic.claude-3-5-sonnet  | us-east-1 | 🔧\n",
      "  🌍    claude-3.7-sonnet         | us.anthropic.claude-3-7-sonnet  | us-east-1 | 🔧\n",
      "  🌍    claude-4-5-sonnet         | global.anthropic.claude-sonnet  | us-east-1 | 🔧\n",
      "  🌍    claude-4-5-sonnet-west-2  | global.anthropic.claude-sonnet  | us-west-2 | 🔧\n",
      "  🌍    claude-4-opus             | us.anthropic.claude-opus-4-202  | us-east-1 | 🔧\n",
      "  🌍    claude-4-sonnet           | us.anthropic.claude-sonnet-4-2  | us-east-1 | 🔧\n",
      "  🌍    claude-4.1-opus           | us.anthropic.claude-opus-4-1-2  | us-east-1 | 🔧\n",
      "  📍    claude-instant            | anthropic.claude-instant-v1:2:  | us-east-1 | ❌\n",
      "  📍    claude-instant-west-2     | anthropic.claude-instant-v1:2:  | us-west-2 | ❌\n",
      "  📍    claude-opus-4-1           | anthropic.claude-opus-4-1-2025  | us-east-1 | ❌\n",
      "  📍    claude-opus-4-east-1      | anthropic.claude-opus-4-202505  | us-east-1 | 🔧\n",
      "  📍    claude-opus-4-west-2      | anthropic.claude-opus-4-202505  | us-west-2 | ❌\n",
      "  📍    claude-sonnet             | anthropic.claude-sonnet-4-2025  | us-east-1 | ❌\n",
      "  🌍    claude-sonnet-east-1      | global.anthropic.claude-sonnet  | us-east-1 | 🔧\n",
      "  🌍    claude-sonnet-west-2      | global.anthropic.claude-sonnet  | us-west-2 | 🔧\n",
      "  📍    claude-west-2             | anthropic.claude-3-5-sonnet-20  | us-west-2 | ❌\n",
      "\n",
      "🏢 Cohere (3 models)\n",
      "------------------------------------------------------------------------------------------\n",
      "  TYPE| MODEL_NAME                | ENDPOINT                        | REGION  | TOOL_SUPPORT\n",
      "------------------------------------------------------------------------------------------\n",
      "  📍    cohere-rerank-3.5         | cohere.rerank-v3-5:0            | us-west-2 | ❌\n",
      "  📍    command-r                 | cohere.command-r-v1:0           | us-east-1 | 🔧\n",
      "  📍    command-r-plus            | cohere.command-r-plus-v1:0      | us-east-1 | 🔧\n",
      "\n",
      "🏢 DeepSeek (4 models)\n",
      "------------------------------------------------------------------------------------------\n",
      "  TYPE| MODEL_NAME                | ENDPOINT                        | REGION  | TOOL_SUPPORT\n",
      "------------------------------------------------------------------------------------------\n",
      "  🌍    deepseek-r1               | us.deepseek.r1-v1:0             | us-east-1 | ❌\n",
      "  📍    deepseek-v3               | deepseek.v3-v1:0                | us-west-2 | 🔧\n",
      "  📍    r1                        | deepseek.r1-v1:0                | us-east-1 | ❌\n",
      "  📍    r1-west-2                 | deepseek.r1-v1:0                | us-west-2 | ❌\n",
      "\n",
      "🏢 Meta (16 models)\n",
      "------------------------------------------------------------------------------------------\n",
      "  TYPE| MODEL_NAME                | ENDPOINT                        | REGION  | TOOL_SUPPORT\n",
      "------------------------------------------------------------------------------------------\n",
      "  📍    llama-3-70b               | meta.llama3-70b-instruct-v1:0   | us-east-1 | ❌\n",
      "  📍    llama-3-8b                | meta.llama3-8b-instruct-v1:0    | us-east-1 | ❌\n",
      "  📍    llama-3.1-405b            | meta.llama3-1-405b-instruct-v1  | us-west-2 | ❌\n",
      "  🌍    llama-3.1-70b             | us.meta.llama3-1-70b-instruct-  | us-east-1 | ❌\n",
      "  🌍    llama-3.1-8b              | us.meta.llama3-1-8b-instruct-v  | us-east-1 | ❌\n",
      "  🌍    llama-3.2-11b             | us.meta.llama3-2-11b-instruct-  | us-east-1 | ❌\n",
      "  🌍    llama-3.2-1b              | us.meta.llama3-2-1b-instruct-v  | us-east-1 | ❌\n",
      "  🌍    llama-3.2-3b              | us.meta.llama3-2-3b-instruct-v  | us-east-1 | ❌\n",
      "  🌍    llama-3.2-90b             | us.meta.llama3-2-90b-instruct-  | us-east-1 | ❌\n",
      "  🌍    llama-3.3-70b             | us.meta.llama3-3-70b-instruct-  | us-east-1 | ❌\n",
      "  🌍    llama-4-maverick          | us.meta.llama4-maverick-17b-in  | us-east-1 | ❌\n",
      "  🌍    llama-4-scout             | us.meta.llama4-scout-17b-instr  | us-east-1 | ❌\n",
      "  📍    llama4-maverick           | meta.llama4-maverick-17b-instr  | us-east-1 | ❌\n",
      "  📍    llama4-maverick-west-2    | meta.llama4-maverick-17b-instr  | us-west-2 | ❌\n",
      "  📍    llama4-scout              | meta.llama4-scout-17b-instruct  | us-east-1 | ❌\n",
      "  📍    llama4-scout-west-2       | meta.llama4-scout-17b-instruct  | us-west-2 | ❌\n",
      "\n",
      "🏢 Mistral AI (8 models)\n",
      "------------------------------------------------------------------------------------------\n",
      "  TYPE| MODEL_NAME                | ENDPOINT                        | REGION  | TOOL_SUPPORT\n",
      "------------------------------------------------------------------------------------------\n",
      "  📍    mistral-7b                | mistral.mistral-7b-instruct-v0  | us-east-1 | ❌\n",
      "  📍    mistral-large-2402        | mistral.mistral-large-2402-v1:  | us-east-1 | ❌\n",
      "  📍    mistral-large-2407        | mistral.mistral-large-2407-v1:  | us-west-2 | ❌\n",
      "  📍    mistral-small             | mistral.mistral-small-2402-v1:  | us-east-1 | ❌\n",
      "  📍    mixtral-8x7b              | mistral.mixtral-8x7b-instruct-  | us-east-1 | ❌\n",
      "  🌍    pixtral-large             | us.mistral.pixtral-large-2502-  | us-east-1 | ❌\n",
      "  📍    pixtral-large-east-1      | mistral.pixtral-large-2502-v1:  | us-east-1 | ❌\n",
      "  📍    pixtral-large-west-2      | mistral.pixtral-large-2502-v1:  | us-west-2 | ❌\n",
      "\n",
      "🏢 OpenAI (2 models)\n",
      "------------------------------------------------------------------------------------------\n",
      "  TYPE| MODEL_NAME                | ENDPOINT                        | REGION  | TOOL_SUPPORT\n",
      "------------------------------------------------------------------------------------------\n",
      "  📍    gpt-oss-120b              | openai.gpt-oss-120b-1:0         | us-east-1 | ❌\n",
      "  📍    gpt-oss-20b               | openai.gpt-oss-20b-1:0          | us-east-1 | ❌\n",
      "\n",
      "🏢 Other (10 models)\n",
      "------------------------------------------------------------------------------------------\n",
      "  TYPE| MODEL_NAME                | ENDPOINT                        | REGION  | TOOL_SUPPORT\n",
      "------------------------------------------------------------------------------------------\n",
      "  🌍    palmyra-x4                | arn:aws:bedrock:us-west-2:6570  | us-west-2 | ❌\n",
      "  📍    palmyra-x4-west-2         | writer.palmyra-x4-v1:0          | us-west-2 | ❌\n",
      "  🌍    palmyra-x5                | arn:aws:bedrock:us-west-2:6570  | us-west-2 | ❌\n",
      "  📍    palmyra-x5-west-2         | writer.palmyra-x5-v1:0          | us-west-2 | ❌\n",
      "  📍    qwen3-235b                | qwen.qwen3-235b-a22b-2507-v1:0  | us-west-2 | 🔧\n",
      "  📍    qwen3-32b                 | qwen.qwen3-32b-v1:0             | us-east-1 | 🔧\n",
      "  📍    qwen3-coder-30b           | qwen.qwen3-coder-30b-a3b-v1:0   | us-east-1 | 🔧\n",
      "  📍    qwen3-coder-480b          | qwen.qwen3-coder-480b-a35b-v1:  | us-west-2 | 🔧\n",
      "  📍    ray                       | luma.ray-v2:0                   | us-west-2 | ❌\n",
      "  🌍    writer                    | us.writer.palmyra-x5-v1:0       | us-west-2 | ❌\n",
      "\n",
      "🏢 TwelveLabs (3 models)\n",
      "------------------------------------------------------------------------------------------\n",
      "  TYPE| MODEL_NAME                | ENDPOINT                        | REGION  | TOOL_SUPPORT\n",
      "------------------------------------------------------------------------------------------\n",
      "  📍    pegasus                   | twelvelabs.pegasus-1-2-v1:0     | us-east-1 | ❌\n",
      "  🌍    pegasus-1.2               | us.twelvelabs.pegasus-1-2-v1:0  | us-east-1 | ❌\n",
      "  📍    pegasus-west-2            | twelvelabs.pegasus-1-2-v1:0     | us-west-2 | ❌\n"
     ]
    }
   ],
   "source": [
    "# List all available models grouped by provider\n",
    "tester.list_models_by_provider()\n",
    "\n",
    "#OPTIONAL: Filter models by including a keyword\n",
    "#tester.list_models_by_provider(\"claude\")"
   ]
  },
  {
   "cell_type": "markdown",
   "metadata": {},
   "source": [
    "## Tests Setup\n",
    "_______________________________________________________________________________________________"
   ]
  },
  {
   "cell_type": "code",
   "execution_count": 13,
   "metadata": {
    "execution": {
     "iopub.execute_input": "2025-10-23T18:32:47.905390Z",
     "iopub.status.busy": "2025-10-23T18:32:47.905131Z",
     "iopub.status.idle": "2025-10-23T18:33:04.745041Z",
     "shell.execute_reply": "2025-10-23T18:33:04.744526Z",
     "shell.execute_reply.started": "2025-10-23T18:32:47.905370Z"
    }
   },
   "outputs": [
    {
     "name": "stdout",
     "output_type": "stream",
     "text": [
      "\n",
      "🚀 Starting Unified Test Suite\n",
      "📊 Total combinations to test: 4\n",
      "🤖 Models: ['nova-pro', 'qwen3-235b']\n",
      "📝 Prompts: ['version2']\n",
      "❓ Queries: 2 query(ies)\n",
      "================================================================================\n",
      "\n",
      "[1/4] Testing: nova-pro | version2\n",
      "Query: Make a reservation for tonight at Rice & Spice for 5 persons...\n",
      "------------------------------------------------------------\n",
      "<thinking> The user has requested to make a reservation for tonight at Rice & Spice for 5 persons at 8pm in the name of Andres. I need to verify if Rice & Spice exists in the directory before proceeding with the booking. Once verified, I will create the booking using the provided details. </thinking>\n",
      "\n",
      "Tool #1: retrieve\n",
      "<thinking> The tool results confirm that Rice & Spice exists in the directory. I can now proceed to create the booking for tonight at 8pm for 5 persons in the name of Andres. </thinking> \n",
      "Tool #2: tool_create_booking\n",
      "Creating reservation for 5 people at Rice & Spice, 2023-10-02 at 20:00 in the name of Andres\n",
      "<answer> Restaurant Helper: Your reservation for tonight at 8pm for 5 persons at Rice & Spice under the name Andres has been successfully created. Your booking ID is 183462ae. Please keep this ID for any future reference or modifications to your booking. </answer>✅ SUCCESS | Time: 6.63s\n",
      "\n",
      "[2/4] Testing: nova-pro | version2\n",
      "Query: Cancel the reservation for Andres tonight at Rice & Spice fo...\n",
      "------------------------------------------------------------\n",
      "<thinking> The user wants to cancel a reservation. I need to verify the restaurant exists in the directory and then proceed with the cancellation. I will use the tool_delete_booking function to cancel the reservation. </thinking>\n",
      "\n",
      "Tool #1: tool_delete_booking\n",
      "<answer> Restaurant Helper: The reservation for Andres tonight at Rice & Spice for 5 persons at 8pm has been successfully canceled. If you need further assistance, please do not hesitate to ask. </answer>✅ SUCCESS | Time: 3.28s\n",
      "\n",
      "[3/4] Testing: qwen3-235b | version2\n",
      "Query: Make a reservation for tonight at Rice & Spice for 5 persons...\n",
      "------------------------------------------------------------\n",
      "Restaurant Helper\n",
      "\n",
      "Tool #1: tool_create_booking\n",
      "Creating reservation for 5 people at Rice & Spice, 2025-10-23 at 20:00 in the name of Andres\n",
      "<answer>Reservation successfully made for tonight at Rice & Spice for 5 persons at 8:00 PM under the name of Andres. Your booking ID is ff1aac0a.</answer>✅ SUCCESS | Time: 2.54s\n",
      "\n",
      "[4/4] Testing: qwen3-235b | version2\n",
      "Query: Cancel the reservation for Andres tonight at Rice & Spice fo...\n",
      "------------------------------------------------------------\n",
      "Restaurant Helper\n",
      "\n",
      "Tool #1: tool_booking_details\n",
      "I apologize, but I'm unable to retrieve the booking details at this time. For immediate assistance with your reservation, please call +1 999 999 99 9999.✅ SUCCESS | Time: 2.12s\n",
      "\n",
      "🎉 Test Suite Completed! 4 results generated.\n",
      "📁 Results automatically saved to test_results/test_results_20251023_183304.csv\n",
      "\n",
      "📈 RESULTS SUMMARY\n",
      "==================================================\n",
      "Total Tests: 4\n",
      "✅ Successful: 4 (100.0%)\n",
      "❌ Failed: 0 (0.0%)\n",
      "⏱️  Response Times - Avg: 3.64s | Min: 2.12s | Max: 6.63s\n",
      "\n",
      "🤖 MODEL PERFORMANCE\n",
      "==================================================\n",
      "nova-pro             | Success: 100.0% | Avg Time:   4.95s | Tests: 2\n",
      "qwen3-235b           | Success: 100.0% | Avg Time:   2.33s | Tests: 2\n",
      "\n",
      "📝 PROMPT PERFORMANCE\n",
      "==================================================\n",
      "version2             | Success: 100.0% | Avg Time:   3.64s | Tests: 4\n"
     ]
    }
   ],
   "source": [
    "# Test 1: Multiple models, single system prompt, single query\n",
    "\n",
    "#Test name\n",
    "test_name = \"Restaurant helper Test\"\n",
    "\n",
    "#Langfuse trace attributes\n",
    "trace_attributes = {\n",
    "    # Main trace name \n",
    "    \"operation.name\": test_name, \n",
    "    \"langfuse.trace.name\": test_name,\n",
    "    # Core identifiers\n",
    "    \"session.id\": session_id,\n",
    "    \"user.id\": \"palacan@amazon.com\",\n",
    "    # Langfuse metadata\n",
    "    \"langfuse.tags\": [\n",
    "        f\"Agent-{test_name}\"\n",
    "    ],\n",
    "    \"langfuse.environment\": \"development\"\n",
    "}\n",
    "\n",
    "# Test Definition and Execution\n",
    "results1 = tester.run_test(\n",
    "    models=[\"nova-pro\", \"qwen3-235b\"],  # Model list to test\n",
    "    system_prompts=[\"version2\"],  # System prompts list to test\n",
    "    queries=test_queries,  # Queries to test\n",
    "    prompts_dict=prompts,  # Dictionary of prompts\n",
    "    tool=tool_list,  # Tools to test\n",
    "    save_to_csv=True, # Default True\n",
    "    trace_attributes=trace_attributes\n",
    ")\n",
    "\n",
    "tester.display_results(results1)"
   ]
  },
  {
   "cell_type": "code",
   "execution_count": 15,
   "metadata": {
    "execution": {
     "iopub.execute_input": "2025-10-23T04:41:58.075985Z",
     "iopub.status.busy": "2025-10-23T04:41:58.075732Z",
     "iopub.status.idle": "2025-10-23T04:42:24.012011Z",
     "shell.execute_reply": "2025-10-23T04:42:24.011326Z",
     "shell.execute_reply.started": "2025-10-23T04:41:58.075965Z"
    }
   },
   "outputs": [
    {
     "name": "stdout",
     "output_type": "stream",
     "text": [
      "\n",
      "🚀 Starting Unified Test Suite\n",
      "📊 Total combinations to test: 2\n",
      "🤖 Models: ['claude-4-sonnet']\n",
      "📝 Prompts: ['version1', 'version2']\n",
      "❓ Queries: 1 query(ies)\n",
      "================================================================================\n",
      "\n",
      "[1/2] Testing: claude-4-sonnet | version1\n",
      "Query: Make a reservation for tonight at Rice & Spice for 5 persons...\n",
      "------------------------------------------------------------\n",
      "Hello! I'm Restaurant Helper, and I'd be happy to help you make a reservation at Rice & Spice.\n",
      "\n",
      "To complete your booking for 5 people at 8pm under the name Andres, I need to know today's date since you mentioned \"tonight\". Could you please provide today's date in the format YYYY-MM-DD?\n",
      "\n",
      "Once I have that information, I'll be able to create your reservation right away!\n",
      "Tool #1: current_time\n",
      "Perfect! I can see that today is October 23rd, 2025. Let me create your reservation for tonight at Rice & Spice.\n",
      "Tool #2: tool_create_booking\n",
      "Creating reservation for 5 people at Rice & Spice, 2025-10-23 at 20:00 in the name of Andres\n",
      "<answer>\n",
      "Excellent! I've successfully created your reservation at Rice & Spice for tonight (October 23rd, 2025) at 8:00 PM for 5 guests under the name Andres. Your booking ID is: 94ea0a8f\n",
      "\n",
      "Please keep this booking ID for your records. We look forward to serving you at Rice & Spice tonight!\n",
      "</answer>✅ SUCCESS | Time: 20.30s\n",
      "\n",
      "[2/2] Testing: claude-4-sonnet | version2\n",
      "Query: Make a reservation for tonight at Rice & Spice for 5 persons...\n",
      "------------------------------------------------------------\n",
      "Restaurant Helper here to assist you with your reservation request.\n",
      "\n",
      "I'd be happy to help you make a reservation at Rice & Spice for 5 guests at 8pm under the name Andres. However, I need to know today's specific date to process your reservation, as I cannot accept relative dates like \"tonight.\"\n",
      "\n",
      "Could you please provide today's date in the format YYYY-MM-DD?\n",
      "\n",
      "<answer>\n",
      "I need today's specific date to create your reservation for tonight at Rice & Spice. Please provide the date in YYYY-MM-DD format, and I'll immediately process your booking for 5 guests at 8:00 PM under the name Andres.\n",
      "</answer>✅ SUCCESS | Time: 4.52s\n",
      "\n",
      "🎉 Test Suite Completed! 2 results generated.\n",
      "📁 Results automatically saved to test_results/test_results_20251023_044224.csv\n",
      "\n",
      "📈 RESULTS SUMMARY\n",
      "==================================================\n",
      "Total Tests: 2\n",
      "✅ Successful: 2 (100.0%)\n",
      "❌ Failed: 0 (0.0%)\n",
      "⏱️  Response Times - Avg: 12.41s | Min: 4.52s | Max: 20.30s\n",
      "\n",
      "🤖 MODEL PERFORMANCE\n",
      "==================================================\n",
      "claude-4-sonnet      | Success: 100.0% | Avg Time:  12.41s | Tests: 2\n",
      "\n",
      "📝 PROMPT PERFORMANCE\n",
      "==================================================\n",
      "version1             | Success: 100.0% | Avg Time:  20.30s | Tests: 1\n",
      "version2             | Success: 100.0% | Avg Time:   4.52s | Tests: 1\n"
     ]
    }
   ],
   "source": [
    "# Test 2: Single model, multiple prompts, single query\n",
    "\n",
    "#Test name\n",
    "test_name = \"Restaurant helper Test\"\n",
    "\n",
    "#Langfuse trace attributes\n",
    "trace_attributes = {\n",
    "    # Main trace name \n",
    "    \"operation.name\": test_name, \n",
    "    \"langfuse.trace.name\": test_name,\n",
    "    # Core identifiers\n",
    "    \"session.id\": session_id,\n",
    "    \"user.id\": \"palacan@amazon.com\",\n",
    "    # Langfuse metadata\n",
    "    \"langfuse.tags\": [\n",
    "        f\"Agent-{test_name}\"\n",
    "    ],\n",
    "    \"langfuse.environment\": \"development\"\n",
    "}\n",
    "\n",
    "results2 = tester.run_test(\n",
    "    models=[\"claude-4-sonnet\"],\n",
    "    system_prompts=[\"version1\", \"version2\"],\n",
    "    queries=test_queries[0],  # Single query\n",
    "    prompts_dict=prompts,\n",
    "    tool=tool_list,\n",
    "    trace_attributes=trace_attributes\n",
    ")\n",
    "\n",
    "tester.display_results(results2)"
   ]
  },
  {
   "cell_type": "markdown",
   "metadata": {},
   "source": [
    "\n",
    "\n",
    "\n",
    "\n",
    "## [OPTIONAL] 🧪 Test Case Evaluation with LLM-as-Judge \n",
    "\n",
    "This section demonstrates how to run structured test case evaluation using the `run_evaluation()` method. This method:\n",
    "\n",
    "- Loads test cases from `config_evaluation.yaml`\n",
    "- Runs multi-turn conversations for each test case\n",
    "- Uses an LLM-as-judge to evaluate responses against expected results\n",
    "- Provides detailed scoring and analysis\n",
    "- Optionally integrates with Langfuse for tracing\n",
    "\n",
    "## Agent Evaluation (csv output)"
   ]
  },
  {
   "cell_type": "code",
   "execution_count": null,
   "metadata": {
    "execution": {
     "iopub.execute_input": "2025-10-23T05:06:37.221257Z",
     "iopub.status.busy": "2025-10-23T05:06:37.221001Z"
    }
   },
   "outputs": [
    {
     "name": "stdout",
     "output_type": "stream",
     "text": [
      "\n",
      "🧪 Starting Test Case Evaluation\n",
      "📊 Total combinations: 2\n",
      "🤖 Models: ['claude-4-sonnet']\n",
      "📝 Prompts: ['version2']\n",
      "📋 Test Cases: 2 test case(s)\n",
      "================================================================================\n",
      "\n",
      "[1/2] Evaluating: claude-4-sonnet | version2 | restaurant_booking_flow_with_menu_inquiry\n",
      "------------------------------------------------------------\n",
      "📝 Test Case: restaurant_booking_flow_with_menu_inquiry\n",
      "\n",
      "  Turn 1: Hi, I'd like to make a reservation at Bistro Parisienne for ...\n",
      "Restaurant Helper here to assist you with your reservation needs.\n",
      "\n",
      "I'll help you view the menu for Bistro Parisienne and then assist with your reservation for tonight.\n",
      "Tool #1: retrieve\n",
      "<answer>\n",
      "Here is the menu for Bistro Parisienne:\n",
      "\n",
      "**BISTRO PARISIENNE - Classic French Cuisine**\n",
      "\n",
      "**HORS D'OEUVRES**\n",
      "• Escargots de Bourgogne - $14\n",
      "• French Onion Soup - $10\n",
      "• Steak Tartare with cornichons and dijon - $16\n",
      "\n",
      "**PLATS PRINCIPAUX**\n",
      "• Coq au Vin with pomme purée - $24\n",
      "• Duck Confit with orange gastrique and lentils - $26\n",
      "• Steak Frites with béarnaise sauce - $29\n",
      "• Bouillabaisse with rouille and grilled bread - $32\n",
      "\n",
      "**DESSERTS**\n",
      "• Crème Brûlée - $9\n",
      "• Tarte Tatin with crème fraîche - $10\n",
      "• Profiteroles with chocolate sauce - $8\n",
      "\n",
      "To proceed with your reservation for tonight, I'll need the following information:\n",
      "• Today's date (in YYYY-MM-DD format)\n",
      "• Preferred time (in HH:MM format)\n",
      "• Your name for the reservation\n",
      "• Number of guests (maximum 10)\n",
      "\n",
      "Please provide these details so I can create your reservation at Bistro Parisienne.\n",
      "</answer>\n",
      "==================================================\n",
      "AGENT EVALUATION RESULTS\n",
      "==================================================\n",
      "<analysis>\n",
      "The agent's response successfully meets all the expected criteria. It implicitly confirms that Bistro Parisienne exists by providing detailed menu information, which demonstrates access to the restaurant directory and knowledge base. The response displays a comprehensive menu with appetizers, main courses, and desserts, complete with pricing and French culinary descriptions that are appropriate for the restaurant type. Additionally, the agent proactively asks for all necessary reservation details including date, time, name, and number of guests (with a specified maximum of 10), which covers the expected request for party size, preferred time, and contact information. The response is well-structured, informative, and moves the conversation forward toward completing the reservation request.\n",
      "</analysis>\n",
      "\n",
      "<category>PASSED</category>==================================================\n",
      "✅ Question 1\n",
      "\n",
      "  Turn 2: Perfect! I'd like to book a table for 4 people at 7:30 PM un...\n",
      "Thank you for providing those details. I have the following information for your reservation:\n",
      "\n",
      "• Restaurant: Bistro Parisienne\n",
      "• Name: Johnson\n",
      "• Party size: 4 people\n",
      "• Time: 7:30 PM (19:30)\n",
      "\n",
      "To complete your booking, I need today's date in YYYY-MM-DD format since you mentioned \"tonight.\" Could you please provide today's date so I can finalize your reservation?\n",
      "==================================================\n",
      "AGENT EVALUATION RESULTS\n",
      "==================================================\n",
      "<analysis>\n",
      "The agent's response partially meets the expected criteria but has significant gaps. It successfully extracts most booking parameters (restaurant, name, party size, and time) and correctly verifies that the party size of 4 is within the 10-person limit. However, the response fails to capture the provided phone number (555-0123) in the summary, does not use the tool_create_booking function to actually create the reservation, and does not provide a confirmation with booking details. Instead, it asks for additional information (today's date) before proceeding. While the tone is appropriately formal, the agent should have either proceeded with the booking using available information or clearly explained why the date is required for the booking system.\n",
      "</analysis>\n",
      "\n",
      "<category>FAILED</category>==================================================\n",
      "❌ Question 2\n",
      "\n",
      "  Turn 3: Actually, can I change that reservation to 6 people instead?...\n",
      "I'll be happy to help you change the party size to 6 people. However, I still need today's date in YYYY-MM-DD format to create your reservation for tonight.\n",
      "\n",
      "Let me also check the cancellation policy for Bistro Parisienne:\n",
      "Tool #2: retrieve\n",
      "<answer>\n",
      "I apologize, but I'm unable to access the cancellation policy information right now. For assistance with cancellation policies and other inquiries, please call +1 999 999 99 9999.\n",
      "\n",
      "To proceed with your updated reservation details:\n",
      "• Restaurant: Bistro Parisienne\n",
      "• Name: Johnson\n",
      "• Party size: 6 people (updated from 4)\n",
      "• Time: 7:30 PM (19:30)\n",
      "\n",
      "Please provide today's date in YYYY-MM-DD format so I can create your reservation for tonight.\n",
      "</answer>\n",
      "==================================================\n",
      "AGENT EVALUATION RESULTS\n",
      "==================================================\n"
     ]
    }
   ],
   "source": [
    "# Load system prompts for evaluation\n",
    "with open('config_experiments.yml', 'r') as f:\n",
    "    config = yaml.safe_load(f)\n",
    "\n",
    "prompts = config['system_prompts']\n",
    "os.environ[\"KNOWLEDGE_BASE_ID\"] = kb_id[\"Parameter\"][\"Value\"]\n",
    "tool_list = [retrieve, current_time, tool_get_booking_details, tool_create_booking, tool_delete_booking]\n",
    "\n",
    "# Run evaluation with test cases\n",
    "evaluation_results = tester.run_evaluation(\n",
    "    models=[\"claude-4-sonnet\"],  # Single model for faster evaluation\n",
    "    system_prompts=[\"version2\"],  # Single prompt version\n",
    "    prompts_dict=prompts,\n",
    "    tool=tool_list,\n",
    "    test_cases_path=\"config_evaluation.yml\",  # Test cases file\n",
    "    save_to_csv=True  # Save results to CSV\n",
    ")\n",
    "\n",
    "print(f\"\\n✅ Evaluation completed with {len(evaluation_results)} test case results\")"
   ]
  },
  {
   "cell_type": "markdown",
   "metadata": {},
   "source": [
    "### Multi-Model Evaluation Comparison\n",
    "\n",
    "Compare multiple models and prompts across all test cases:"
   ]
  },
  {
   "cell_type": "code",
   "execution_count": null,
   "metadata": {},
   "outputs": [],
   "source": [
    "# Comprehensive evaluation across multiple configurations\n",
    "# WARNING!!: This will take longer as it tests all combinations\n",
    "\n",
    "comprehensive_evaluation = tester.run_evaluation(\n",
    "    models=[\"claude-4-sonnet\", \"qwen3-235b\"],  # Multiple models\n",
    "    system_prompts=[\"version2\"],   # Multiple prompts\n",
    "    prompts_dict=prompts,\n",
    "    tool=tool_list,\n",
    "    test_cases_path=\"config_evaluation.yaml\",\n",
    "    save_to_csv=True\n",
    ")\n",
    "\n",
    "print(f\"\\n🎯 Comprehensive evaluation completed with {len(comprehensive_evaluation)} results\")\n",
    "print(\"\\n📊 Detailed analysis shows model and prompt performance across all test cases\")"
   ]
  },
  {
   "cell_type": "code",
   "execution_count": null,
   "metadata": {},
   "outputs": [],
   "source": []
  }
 ],
 "metadata": {
  "kernelspec": {
   "display_name": "Python 3 (ipykernel)",
   "language": "python",
   "name": "python3"
  },
  "language_info": {
   "codemirror_mode": {
    "name": "ipython",
    "version": 3
   },
   "file_extension": ".py",
   "mimetype": "text/x-python",
   "name": "python",
   "nbconvert_exporter": "python",
   "pygments_lexer": "ipython3",
   "version": "3.12.9"
  }
 },
 "nbformat": 4,
 "nbformat_minor": 4
}
