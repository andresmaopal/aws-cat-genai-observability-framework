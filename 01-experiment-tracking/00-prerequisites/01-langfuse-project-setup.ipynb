{
 "cells": [
  {
   "cell_type": "markdown",
   "metadata": {},
   "source": [
    "# Langfuse Project Setup\n",
    "\n",
    "This notebook replicates the exact content from the AWS workshop: **GenAIOps - Observability for GenAI applications with Amazon Bedrock and Langfuse**"
   ]
  },
  {
   "cell_type": "markdown",
   "metadata": {},
   "source": [
    "## Langfuse v3 - Enhanced Observability\n",
    "\n",
    "This workshop utilizes a self-hosted **Langfuse v3** in AWS, the latest stable release that brings significant improvements over v2. Key enhancements include:\n",
    "\n",
    "- **Improved performance** with faster query execution and reduced latency\n",
    "- **Enhanced security** with better authentication and data protection\n",
    "- **Advanced analytics** with more detailed metrics and insights\n",
    "- **Better integration** support for modern LLM frameworks and tools\n",
    "\n",
    "![Langfuse v3 Diagram](https://static.us-east-1.prod.workshops.aws/public/1d037d54-c7f6-4c98-a627-77aafbd513fb/static/images/00_introduction/langfuse_v3_diagram.png)"
   ]
  },
  {
   "cell_type": "markdown",
   "metadata": {},
   "source": [
    "## Create a New Project in Langfuse\n",
    "\n",
    "Now, we will set up a project in [Langfuse](https://langfuse.com/docs), an open-source observability and analytics platform designed specifically for LLM applications. Langfuse helps you track, monitor, and analyze your LLM application's performance, costs, and behavior.\n",
    "\n",
    "With Langfuse, you can:\n",
    "\n",
    "- Track and analyze LLM interactions and their associated costs\n",
    "- Monitor model performance and latency\n",
    "- Debug production issues with detailed tracing\n",
    "- Evaluate output quality and model behavior\n",
    "- Collect user feedback and ground truth data\n",
    "and more.\n",
    "\n",
    "We'll walk through creating a Langfuse account, setting up a project, generating API credentials, and configuring custom model definitions for Amazon Bedrock's Nova models. This will prepare us to start tracing our LLM applications in the subsequent labs."
   ]
  },
  {
   "cell_type": "markdown",
   "metadata": {},
   "source": [
    "### Step 1: Sign Up for Langfuse\n",
    "\n",
    "1. Click on **Sign up** to create a Langfuse Account\n",
    "\n",
    "![Langfuse Main Page](https://static.us-east-1.prod.workshops.aws/public/1d037d54-c7f6-4c98-a627-77aafbd513fb/static/images/00_introduction/01-langfuse-main-page.png)\n",
    "\n",
    "![Sign Up Page](https://static.us-east-1.prod.workshops.aws/public/1d037d54-c7f6-4c98-a627-77aafbd513fb/static/images/00_introduction/02-sign-up.png)"
   ]
  },
  {
   "cell_type": "markdown",
   "metadata": {},
   "source": [
    "### Step 2: Create Organization\n",
    "\n",
    "2. Create a **New Organization** and enter an organization name. Skip the *Invite Members* step.\n",
    "\n",
    "![New Organization](https://static.us-east-1.prod.workshops.aws/public/1d037d54-c7f6-4c98-a627-77aafbd513fb/static/images/00_introduction/create-organization.png)"
   ]
  },
  {
   "cell_type": "markdown",
   "metadata": {},
   "source": [
    "### Step 3: Create Project\n",
    "\n",
    "3. Enter a name for the new project and click **Create**.\n",
    "\n",
    "![New Project](https://static.us-east-1.prod.workshops.aws/public/1d037d54-c7f6-4c98-a627-77aafbd513fb/static/images/00_introduction/03-new-project.png)"
   ]
  },
  {
   "cell_type": "markdown",
   "metadata": {},
   "source": [
    "### Step 4: Create API Keys\n",
    "\n",
    "4. Create a new API key pair\n",
    "\n",
    "![Create API Keys](https://static.us-east-1.prod.workshops.aws/public/1d037d54-c7f6-4c98-a627-77aafbd513fb/static/images/00_introduction/04-create-api-keys.png)"
   ]
  },
  {
   "cell_type": "markdown",
   "metadata": {},
   "source": [
    "## Setting Up Langfuse Credentials\n",
    "\n",
    "### Step 5: Configure Environment Variables\n",
    "\n",
    "1. Navigate to the notebook `cat-observability-framework/01-experiment-tracking/2-experiment-testing/` within your workshop environment.\n",
    "\n",
    "2. Locate the notebook named `experiments_testing-demo-langfuse.ipynb` \n",
    "\n",
    "4. Add the Langfuse host URL \n",
    "\n",
    "5. Add your Langfuse public key, which begins with the prefix `pk-lf-` and is obtained from your project settings in the Langfuse console.\n",
    "\n",
    "6. Add your Langfuse secret key, which begins with the prefix `sk-lf-` and is also obtained from your project settings.\n",
    "\n",
    "The completed configuration should follow this format:\n",
    "\n",
    "```bash\n",
    "LANGFUSE_HOST=https://your-cloudfront-distribution.cloudfront.net\n",
    "LANGFUSE_PUBLIC_KEY=pk-lf-your-actual-public-key\n",
    "LANGFUSE_SECRET_KEY=sk-lf-your-actual-secret-key\n",
    "```\n",
    "\n",
    "Save the file after adding your actual credential values. The notebook will load these environment variables automatically when executing the Langfuse integration exercises in agents two and three."
   ]
  },
  {
   "cell_type": "markdown",
   "metadata": {},
   "source": [
    "## Adding model pricing for cost tracking\n",
    "\n",
    "You can flexibly add your own model definitions to Langfuse. This is especially useful for self-hosted or fine-tuned models which are not included in the list of Langfuse maintained models. For details, please refer to [Model-Usage-Cost-Tracking](https://langfuse.com/docs/model-usage-and-cost)\n",
    "\n",
    "### Step 6: Add Model Definitions\n",
    "\n",
    "1. Switch back to the Langfuse dashboard, under **Settings** -> **Models** section, you can find the page and button **Add model definition**\n",
    "\n",
    "![Add Model Definition](https://static.us-east-1.prod.workshops.aws/public/1d037d54-c7f6-4c98-a627-77aafbd513fb/static/images/00_introduction/custom-models-setting.png)\n",
    "\n",
    "As a reference, you can find the latest prices of each Nova model at [https://aws.amazon.com/bedrock/pricing/](https://aws.amazon.com/bedrock/pricing/)\n",
    "\n",
    "![Nova Model Pricing](https://static.us-east-1.prod.workshops.aws/public/1d037d54-c7f6-4c98-a627-77aafbd513fb/static/images/00_introduction/amazon-nova-model-pricing.png)"
   ]
  },
  {
   "cell_type": "markdown",
   "metadata": {},
   "source": [
    "### Step 7: Add Amazon Nova Pro Model Price\n",
    "\n",
    "2. Add Amazon Nova Pro model price\n",
    "\n",
    "- Model Name: `Amazon Nova Pro`, and click on **Create a new model name: \"Amazon Nova Pro\"** to confirm we are adding a new model.\n",
    "- Match Pattern: `(?i)^(us.amazon.nova-pro-v1:0)$`\n",
    "- Unit: **TOKENS**\n",
    "- Input price: `0.0000008`\n",
    "- Output price: `0.0000032`\n",
    "\n",
    "![Amazon Nova Pro](https://static.us-east-1.prod.workshops.aws/public/1d037d54-c7f6-4c98-a627-77aafbd513fb/static/images/00_introduction/amazon-nova-model-pro-add-price.png)\n",
    "\n",
    "Click **Save** button to save the settings."
   ]
  },
  {
   "cell_type": "markdown",
   "metadata": {},
   "source": [
    "### Step 8: Add Additional Models\n",
    "\n",
    "3. Similarly follow the same steps to add Amazon Nova Lite, Micro, and Sonnet-4.5 model price\n",
    "\n",
    "**Amazon Nova Lite**\n",
    "\n",
    "- Model Name: `Amazon Nova Lite`\n",
    "- Match Pattern: `(?i)^(us.amazon.nova-lite-v1:0)$`\n",
    "- Unit: **TOKENS**\n",
    "- Input price: `0.0000006`\n",
    "- Output price: `0.00000024`\n",
    "\n",
    "**Amazon Nova Micro**\n",
    "\n",
    "- Model Name: `Amazon Nova Micro`\n",
    "- Match Pattern: `(?i)^(us.amazon.nova-micro-v1:0)$`\n",
    "- Unit: **TOKENS**\n",
    "- Input price: `0.000000035`\n",
    "- Output price: `0.000000140`\n",
    "\n",
    "**Anthropic Claude Sonnet-4.5**\n",
    "\n",
    "- Model Name: `Anthropic Claude Sonnet-4.5`\n",
    "- Match Pattern: `(?i)^(global.anthropic.claude-sonnet-4-5-20250929-v1:0)$`\n",
    "- Unit: **TOKENS**\n",
    "- Input price: `0.000003`\n",
    "- Output price: `0.000015`"
   ]
  },
  {
   "cell_type": "code",
   "execution_count": null,
   "metadata": {},
   "outputs": [],
   "source": [
    "# Example: Model pricing configuration for reference\n",
    "model_pricing = {\n",
    "    \"Amazon Nova Pro\": {\n",
    "        \"pattern\": \"(?i)^(us.amazon.nova-pro-v1:0)$\",\n",
    "        \"input_price\": 0.0000008,\n",
    "        \"output_price\": 0.0000032,\n",
    "        \"unit\": \"TOKENS\"\n",
    "    },\n",
    "    \"Amazon Nova Lite\": {\n",
    "        \"pattern\": \"(?i)^(us.amazon.nova-lite-v1:0)$\",\n",
    "        \"input_price\": 0.0000006,\n",
    "        \"output_price\": 0.00000024,\n",
    "        \"unit\": \"TOKENS\"\n",
    "    },\n",
    "    \"Amazon Nova Micro\": {\n",
    "        \"pattern\": \"(?i)^(us.amazon.nova-micro-v1:0)$\",\n",
    "        \"input_price\": 0.000000035,\n",
    "        \"output_price\": 0.000000140,\n",
    "        \"unit\": \"TOKENS\"\n",
    "    },\n",
    "    \"Anthropic Claude Sonnet-4.5\": {\n",
    "        \"pattern\": \"(?i)^(global.anthropic.claude-sonnet-4-5-20250929-v1:0)$\",\n",
    "        \"input_price\": 0.000003,\n",
    "        \"output_price\": 0.000015,\n",
    "        \"unit\": \"TOKENS\"\n",
    "    }\n",
    "}\n",
    "\n",
    "print(\"Model pricing configuration:\")\n",
    "for model, config in model_pricing.items():\n",
    "    print(f\"\\n{model}:\")\n",
    "    print(f\"  Pattern: {config['pattern']}\")\n",
    "    print(f\"  Input Price: ${config['input_price']} per {config['unit'].lower()}\")\n",
    "    print(f\"  Output Price: ${config['output_price']} per {config['unit'].lower()}\")"
   ]
  }
 ],
 "metadata": {
  "kernelspec": {
   "display_name": "Python 3 (ipykernel)",
   "language": "python",
   "name": "python3"
  },
  "language_info": {
   "codemirror_mode": {
    "name": "ipython",
    "version": 3
   },
   "file_extension": ".py",
   "mimetype": "text/x-python",
   "name": "python",
   "nbconvert_exporter": "python",
   "pygments_lexer": "ipython3",
   "version": "3.12.9"
  }
 },
 "nbformat": 4,
 "nbformat_minor": 4
}
