{
 "cells": [
  {
   "cell_type": "markdown",
   "metadata": {},
   "source": [
    "# 🎯 Lyra - AI Prompt Optimization Specialist\n",
    "\n",
    "Transform your prompts into token-efficient, machine generated helpful instructions. This system combines the [4-D methodology](https://ai.gov.uk/knowledge-hub/prompts/prompt-optimiser/) with [Anthropic's best practices](https://www.anthropic.com/engineering/effective-context-engineering-for-ai-agents)\n",
    "\n",
    "\n",
    "![image](images/prompt_helper.webp)\n",
    "\n",
    "## Instructions\n",
    "1. Run the setup cell below\n",
    "2. Use the interactive chat widget to optimize your prompts\n",
    "3. Choose your mode (ADVANCED/EFFICIENT) and target (Claude/General)\n",
    "4. Share your prompt for optimization\n",
    "\n",
    "## Start here\n"
   ]
  },
  {
   "cell_type": "code",
   "execution_count": 12,
   "metadata": {},
   "outputs": [],
   "source": [
    "!pip install ipywidgets \"strands-agents==0.1.9\" \"strands-agents-tools==0.1.7\" -q"
   ]
  },
  {
   "cell_type": "code",
   "execution_count": 13,
   "metadata": {
    "scrolled": true
   },
   "outputs": [
    {
     "data": {
      "application/vnd.jupyter.widget-view+json": {
       "model_id": "bd0fd509b677424cb4773a3ead5b0038",
       "version_major": 2,
       "version_minor": 0
      },
      "text/plain": [
       "VBox(children=(HTML(value='<h4>💬 Chat with Lyra</h4>'), Output(), HTML(value='<hr>'), Textarea(value='', layou…"
      ]
     },
     "metadata": {},
     "output_type": "display_data"
    }
   ],
   "source": [
    "from utils_lyra import LyraOptimizer, LyraChat\n",
    "\n",
    "# Initialize Lyra and create chat interface\n",
    "lyra = LyraOptimizer()\n",
    "chat = LyraChat(lyra)\n",
    "chat.display()\n"
   ]
  },
  {
   "cell_type": "code",
   "execution_count": null,
   "metadata": {},
   "outputs": [],
   "source": []
  }
 ],
 "metadata": {
  "kernelspec": {
   "display_name": "Python 3 (ipykernel)",
   "language": "python",
   "name": "python3"
  },
  "language_info": {
   "codemirror_mode": {
    "name": "ipython",
    "version": 3
   },
   "file_extension": ".py",
   "mimetype": "text/x-python",
   "name": "python",
   "nbconvert_exporter": "python",
   "pygments_lexer": "ipython3",
   "version": "3.12.9"
  }
 },
 "nbformat": 4,
 "nbformat_minor": 4
}
